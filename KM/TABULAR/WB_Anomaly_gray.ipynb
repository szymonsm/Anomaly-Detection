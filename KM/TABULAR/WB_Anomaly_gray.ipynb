{
 "cells": [
  {
   "cell_type": "markdown",
   "metadata": {},
   "source": [
    "# WB"
   ]
  },
  {
   "cell_type": "markdown",
   "metadata": {},
   "source": [
    "## Instalacja bibliotek"
   ]
  },
  {
   "cell_type": "code",
   "execution_count": 2,
   "metadata": {},
   "outputs": [
    {
     "name": "stdout",
     "output_type": "stream",
     "text": [
      "Requirement already satisfied: h5py in c:\\users\\szymo\\anaconda3\\lib\\site-packages (2.10.0)\n",
      "Requirement already satisfied: numpy>=1.7 in c:\\users\\szymo\\appdata\\roaming\\python\\python38\\site-packages (from h5py) (1.23.5)\n",
      "Requirement already satisfied: six in c:\\users\\szymo\\anaconda3\\lib\\site-packages (from h5py) (1.15.0)\n"
     ]
    },
    {
     "name": "stderr",
     "output_type": "stream",
     "text": [
      "WARNING: Ignoring invalid distribution -atplotlib (c:\\users\\szymo\\anaconda3\\lib\\site-packages)\n",
      "WARNING: Ignoring invalid distribution -atplotlib (c:\\users\\szymo\\anaconda3\\lib\\site-packages)\n"
     ]
    }
   ],
   "source": [
    "!pip install h5py"
   ]
  },
  {
   "cell_type": "code",
   "execution_count": 19,
   "metadata": {},
   "outputs": [
    {
     "name": "stderr",
     "output_type": "stream",
     "text": [
      "WARNING: Ignoring invalid distribution -atplotlib (c:\\users\\szymo\\anaconda3\\lib\\site-packages)\n",
      "WARNING: Ignoring invalid distribution -atplotlib (c:\\users\\szymo\\anaconda3\\lib\\site-packages)\n"
     ]
    },
    {
     "name": "stdout",
     "output_type": "stream",
     "text": [
      "Requirement already satisfied: keras in c:\\users\\szymo\\anaconda3\\lib\\site-packages (2.12.0)\n"
     ]
    }
   ],
   "source": [
    "!pip install keras"
   ]
  },
  {
   "cell_type": "code",
   "execution_count": 17,
   "metadata": {
    "scrolled": true
   },
   "outputs": [
    {
     "name": "stdout",
     "output_type": "stream",
     "text": [
      "Requirement already satisfied: pip in c:\\users\\szymo\\anaconda3\\lib\\site-packages (23.1.2)\n"
     ]
    },
    {
     "name": "stderr",
     "output_type": "stream",
     "text": [
      "WARNING: Ignoring invalid distribution -atplotlib (c:\\users\\szymo\\anaconda3\\lib\\site-packages)\n",
      "WARNING: Ignoring invalid distribution -atplotlib (c:\\users\\szymo\\anaconda3\\lib\\site-packages)\n"
     ]
    }
   ],
   "source": [
    "!python -m pip install --upgrade pip"
   ]
  },
  {
   "cell_type": "code",
   "execution_count": 20,
   "metadata": {},
   "outputs": [
    {
     "name": "stderr",
     "output_type": "stream",
     "text": [
      "WARNING: Ignoring invalid distribution -atplotlib (c:\\users\\szymo\\anaconda3\\lib\\site-packages)\n",
      "WARNING: Ignoring invalid distribution -atplotlib (c:\\users\\szymo\\anaconda3\\lib\\site-packages)\n"
     ]
    }
   ],
   "source": [
    "!pip install grpcio>=1.48.2"
   ]
  },
  {
   "cell_type": "code",
   "execution_count": 21,
   "metadata": {},
   "outputs": [
    {
     "name": "stdout",
     "output_type": "stream",
     "text": [
      "Requirement already satisfied: scikit-learn in c:\\users\\szymo\\anaconda3\\lib\\site-packages (1.0.1)\n",
      "Requirement already satisfied: numpy>=1.14.6 in c:\\users\\szymo\\appdata\\roaming\\python\\python38\\site-packages (from scikit-learn) (1.23.0)\n",
      "Requirement already satisfied: scipy>=1.1.0 in c:\\users\\szymo\\anaconda3\\lib\\site-packages (from scikit-learn) (1.10.1)\n",
      "Requirement already satisfied: joblib>=0.11 in c:\\users\\szymo\\anaconda3\\lib\\site-packages (from scikit-learn) (0.17.0)\n",
      "Requirement already satisfied: threadpoolctl>=2.0.0 in c:\\users\\szymo\\anaconda3\\lib\\site-packages (from scikit-learn) (2.1.0)\n"
     ]
    },
    {
     "name": "stderr",
     "output_type": "stream",
     "text": [
      "WARNING: Ignoring invalid distribution -atplotlib (c:\\users\\szymo\\anaconda3\\lib\\site-packages)\n",
      "WARNING: Ignoring invalid distribution -atplotlib (c:\\users\\szymo\\anaconda3\\lib\\site-packages)\n"
     ]
    }
   ],
   "source": [
    "!pip install scikit-learn --user"
   ]
  },
  {
   "cell_type": "code",
   "execution_count": 22,
   "metadata": {},
   "outputs": [
    {
     "name": "stdout",
     "output_type": "stream",
     "text": [
      "Requirement already satisfied: tensorflow in c:\\users\\szymo\\anaconda3\\lib\\site-packages (2.12.0)\n",
      "Requirement already satisfied: tensorflow-intel==2.12.0 in c:\\users\\szymo\\anaconda3\\lib\\site-packages (from tensorflow) (2.12.0)\n",
      "Requirement already satisfied: absl-py>=1.0.0 in c:\\users\\szymo\\anaconda3\\lib\\site-packages (from tensorflow-intel==2.12.0->tensorflow) (1.4.0)\n",
      "Requirement already satisfied: astunparse>=1.6.0 in c:\\users\\szymo\\anaconda3\\lib\\site-packages (from tensorflow-intel==2.12.0->tensorflow) (1.6.3)\n",
      "Requirement already satisfied: flatbuffers>=2.0 in c:\\users\\szymo\\anaconda3\\lib\\site-packages (from tensorflow-intel==2.12.0->tensorflow) (23.3.3)\n",
      "Requirement already satisfied: gast<=0.4.0,>=0.2.1 in c:\\users\\szymo\\anaconda3\\lib\\site-packages (from tensorflow-intel==2.12.0->tensorflow) (0.4.0)\n",
      "Requirement already satisfied: google-pasta>=0.1.1 in c:\\users\\szymo\\anaconda3\\lib\\site-packages (from tensorflow-intel==2.12.0->tensorflow) (0.2.0)\n",
      "Requirement already satisfied: h5py>=2.9.0 in c:\\users\\szymo\\anaconda3\\lib\\site-packages (from tensorflow-intel==2.12.0->tensorflow) (2.10.0)\n",
      "Requirement already satisfied: jax>=0.3.15 in c:\\users\\szymo\\anaconda3\\lib\\site-packages (from tensorflow-intel==2.12.0->tensorflow) (0.4.8)\n",
      "Requirement already satisfied: libclang>=13.0.0 in c:\\users\\szymo\\anaconda3\\lib\\site-packages (from tensorflow-intel==2.12.0->tensorflow) (16.0.0)\n",
      "Requirement already satisfied: numpy<1.24,>=1.22 in c:\\users\\szymo\\appdata\\roaming\\python\\python38\\site-packages (from tensorflow-intel==2.12.0->tensorflow) (1.23.0)\n",
      "Requirement already satisfied: opt-einsum>=2.3.2 in c:\\users\\szymo\\anaconda3\\lib\\site-packages (from tensorflow-intel==2.12.0->tensorflow) (3.3.0)\n",
      "Requirement already satisfied: packaging in c:\\users\\szymo\\anaconda3\\lib\\site-packages (from tensorflow-intel==2.12.0->tensorflow) (21.3)\n",
      "Requirement already satisfied: protobuf!=4.21.0,!=4.21.1,!=4.21.2,!=4.21.3,!=4.21.4,!=4.21.5,<5.0.0dev,>=3.20.3 in c:\\users\\szymo\\anaconda3\\lib\\site-packages (from tensorflow-intel==2.12.0->tensorflow) (4.22.3)\n",
      "Requirement already satisfied: setuptools in c:\\users\\szymo\\anaconda3\\lib\\site-packages (from tensorflow-intel==2.12.0->tensorflow) (50.3.1.post20201107)\n",
      "Requirement already satisfied: six>=1.12.0 in c:\\users\\szymo\\anaconda3\\lib\\site-packages (from tensorflow-intel==2.12.0->tensorflow) (1.15.0)\n",
      "Requirement already satisfied: termcolor>=1.1.0 in c:\\users\\szymo\\anaconda3\\lib\\site-packages (from tensorflow-intel==2.12.0->tensorflow) (2.2.0)\n",
      "Requirement already satisfied: typing-extensions>=3.6.6 in c:\\users\\szymo\\anaconda3\\lib\\site-packages (from tensorflow-intel==2.12.0->tensorflow) (4.4.0)\n",
      "Requirement already satisfied: wrapt<1.15,>=1.11.0 in c:\\users\\szymo\\anaconda3\\lib\\site-packages (from tensorflow-intel==2.12.0->tensorflow) (1.11.2)\n",
      "Requirement already satisfied: grpcio<2.0,>=1.24.3 in c:\\users\\szymo\\anaconda3\\lib\\site-packages (from tensorflow-intel==2.12.0->tensorflow) (1.53.0)\n",
      "Requirement already satisfied: tensorboard<2.13,>=2.12 in c:\\users\\szymo\\anaconda3\\lib\\site-packages (from tensorflow-intel==2.12.0->tensorflow) (2.12.2)\n",
      "Requirement already satisfied: tensorflow-estimator<2.13,>=2.12.0 in c:\\users\\szymo\\anaconda3\\lib\\site-packages (from tensorflow-intel==2.12.0->tensorflow) (2.12.0)\n",
      "Requirement already satisfied: keras<2.13,>=2.12.0 in c:\\users\\szymo\\anaconda3\\lib\\site-packages (from tensorflow-intel==2.12.0->tensorflow) (2.12.0)\n",
      "Requirement already satisfied: tensorflow-io-gcs-filesystem>=0.23.1 in c:\\users\\szymo\\anaconda3\\lib\\site-packages (from tensorflow-intel==2.12.0->tensorflow) (0.31.0)\n",
      "Requirement already satisfied: wheel<1.0,>=0.23.0 in c:\\users\\szymo\\anaconda3\\lib\\site-packages (from astunparse>=1.6.0->tensorflow-intel==2.12.0->tensorflow) (0.35.1)\n",
      "Requirement already satisfied: ml-dtypes>=0.0.3 in c:\\users\\szymo\\anaconda3\\lib\\site-packages (from jax>=0.3.15->tensorflow-intel==2.12.0->tensorflow) (0.1.0)\n",
      "Requirement already satisfied: scipy>=1.7 in c:\\users\\szymo\\anaconda3\\lib\\site-packages (from jax>=0.3.15->tensorflow-intel==2.12.0->tensorflow) (1.10.1)\n",
      "Requirement already satisfied: google-auth<3,>=1.6.3 in c:\\users\\szymo\\anaconda3\\lib\\site-packages (from tensorboard<2.13,>=2.12->tensorflow-intel==2.12.0->tensorflow) (2.17.3)\n",
      "Requirement already satisfied: google-auth-oauthlib<1.1,>=0.5 in c:\\users\\szymo\\anaconda3\\lib\\site-packages (from tensorboard<2.13,>=2.12->tensorflow-intel==2.12.0->tensorflow) (1.0.0)\n",
      "Requirement already satisfied: markdown>=2.6.8 in c:\\users\\szymo\\anaconda3\\lib\\site-packages (from tensorboard<2.13,>=2.12->tensorflow-intel==2.12.0->tensorflow) (3.4.3)\n",
      "Requirement already satisfied: requests<3,>=2.21.0 in c:\\users\\szymo\\anaconda3\\lib\\site-packages (from tensorboard<2.13,>=2.12->tensorflow-intel==2.12.0->tensorflow) (2.28.1)\n",
      "Requirement already satisfied: tensorboard-data-server<0.8.0,>=0.7.0 in c:\\users\\szymo\\anaconda3\\lib\\site-packages (from tensorboard<2.13,>=2.12->tensorflow-intel==2.12.0->tensorflow) (0.7.0)\n",
      "Requirement already satisfied: tensorboard-plugin-wit>=1.6.0 in c:\\users\\szymo\\anaconda3\\lib\\site-packages (from tensorboard<2.13,>=2.12->tensorflow-intel==2.12.0->tensorflow) (1.8.1)\n",
      "Requirement already satisfied: werkzeug>=1.0.1 in c:\\users\\szymo\\anaconda3\\lib\\site-packages (from tensorboard<2.13,>=2.12->tensorflow-intel==2.12.0->tensorflow) (1.0.1)\n",
      "Requirement already satisfied: pyparsing!=3.0.5,>=2.0.2 in c:\\users\\szymo\\anaconda3\\lib\\site-packages (from packaging->tensorflow-intel==2.12.0->tensorflow) (2.4.7)\n",
      "Requirement already satisfied: cachetools<6.0,>=2.0.0 in c:\\users\\szymo\\anaconda3\\lib\\site-packages (from google-auth<3,>=1.6.3->tensorboard<2.13,>=2.12->tensorflow-intel==2.12.0->tensorflow) (5.2.0)\n",
      "Requirement already satisfied: pyasn1-modules>=0.2.1 in c:\\users\\szymo\\anaconda3\\lib\\site-packages (from google-auth<3,>=1.6.3->tensorboard<2.13,>=2.12->tensorflow-intel==2.12.0->tensorflow) (0.2.8)\n",
      "Requirement already satisfied: rsa<5,>=3.1.4 in c:\\users\\szymo\\anaconda3\\lib\\site-packages (from google-auth<3,>=1.6.3->tensorboard<2.13,>=2.12->tensorflow-intel==2.12.0->tensorflow) (4.9)\n",
      "Requirement already satisfied: requests-oauthlib>=0.7.0 in c:\\users\\szymo\\anaconda3\\lib\\site-packages (from google-auth-oauthlib<1.1,>=0.5->tensorboard<2.13,>=2.12->tensorflow-intel==2.12.0->tensorflow) (1.3.1)\n",
      "Requirement already satisfied: importlib-metadata>=4.4 in c:\\users\\szymo\\anaconda3\\lib\\site-packages (from markdown>=2.6.8->tensorboard<2.13,>=2.12->tensorflow-intel==2.12.0->tensorflow) (6.4.1)\n",
      "Requirement already satisfied: charset-normalizer<3,>=2 in c:\\users\\szymo\\anaconda3\\lib\\site-packages (from requests<3,>=2.21.0->tensorboard<2.13,>=2.12->tensorflow-intel==2.12.0->tensorflow) (2.0.4)\n",
      "Requirement already satisfied: idna<4,>=2.5 in c:\\users\\szymo\\anaconda3\\lib\\site-packages (from requests<3,>=2.21.0->tensorboard<2.13,>=2.12->tensorflow-intel==2.12.0->tensorflow) (2.10)\n",
      "Requirement already satisfied: urllib3<1.27,>=1.21.1 in c:\\users\\szymo\\anaconda3\\lib\\site-packages (from requests<3,>=2.21.0->tensorboard<2.13,>=2.12->tensorflow-intel==2.12.0->tensorflow) (1.26.14)\n",
      "Requirement already satisfied: certifi>=2017.4.17 in c:\\users\\szymo\\anaconda3\\lib\\site-packages (from requests<3,>=2.21.0->tensorboard<2.13,>=2.12->tensorflow-intel==2.12.0->tensorflow) (2022.12.7)\n",
      "Requirement already satisfied: zipp>=0.5 in c:\\users\\szymo\\anaconda3\\lib\\site-packages (from importlib-metadata>=4.4->markdown>=2.6.8->tensorboard<2.13,>=2.12->tensorflow-intel==2.12.0->tensorflow) (3.4.0)\n",
      "Requirement already satisfied: pyasn1<0.5.0,>=0.4.6 in c:\\users\\szymo\\anaconda3\\lib\\site-packages (from pyasn1-modules>=0.2.1->google-auth<3,>=1.6.3->tensorboard<2.13,>=2.12->tensorflow-intel==2.12.0->tensorflow) (0.4.8)\n",
      "Requirement already satisfied: oauthlib>=3.0.0 in c:\\users\\szymo\\anaconda3\\lib\\site-packages (from requests-oauthlib>=0.7.0->google-auth-oauthlib<1.1,>=0.5->tensorboard<2.13,>=2.12->tensorflow-intel==2.12.0->tensorflow) (3.2.2)\n"
     ]
    },
    {
     "name": "stderr",
     "output_type": "stream",
     "text": [
      "WARNING: Ignoring invalid distribution -atplotlib (c:\\users\\szymo\\anaconda3\\lib\\site-packages)\n",
      "WARNING: Ignoring invalid distribution -atplotlib (c:\\users\\szymo\\anaconda3\\lib\\site-packages)\n"
     ]
    }
   ],
   "source": [
    "!pip install tensorflow --user"
   ]
  },
  {
   "cell_type": "code",
   "execution_count": 15,
   "metadata": {},
   "outputs": [
    {
     "name": "stdout",
     "output_type": "stream",
     "text": [
      "Collecting numpy==1.23.0\n",
      "  Using cached numpy-1.23.0-cp38-cp38-win_amd64.whl (14.7 MB)\n",
      "Installing collected packages: numpy\n",
      "  Attempting uninstall: numpy\n",
      "    Found existing installation: numpy 1.24.3\n",
      "    Uninstalling numpy-1.24.3:\n",
      "      Successfully uninstalled numpy-1.24.3\n",
      "Successfully installed numpy-1.23.0\n"
     ]
    },
    {
     "name": "stderr",
     "output_type": "stream",
     "text": [
      "WARNING: Ignoring invalid distribution -atplotlib (c:\\users\\szymo\\anaconda3\\lib\\site-packages)\n",
      "WARNING: Ignoring invalid distribution -atplotlib (c:\\users\\szymo\\anaconda3\\lib\\site-packages)\n",
      "  WARNING: The script f2py.exe is installed in 'C:\\Users\\szymo\\AppData\\Roaming\\Python\\Python38\\Scripts' which is not on PATH.\n",
      "  Consider adding this directory to PATH or, if you prefer to suppress this warning, use --no-warn-script-location.\n",
      "ERROR: pip's dependency resolver does not currently take into account all the packages that are installed. This behaviour is the source of the following dependency conflicts.\n",
      "verstack 2.0.6 requires matplotlib, which is not installed.\n",
      "autowoe 1.3.1 requires matplotlib, which is not installed.\n",
      "catboost 1.0.5 requires matplotlib, which is not installed.\n",
      "klib 1.0.7 requires matplotlib<4.0.0,>=3.0.3, which is not installed.\n",
      "mizani 0.7.4 requires matplotlib>=3.5.0, which is not installed.\n",
      "mlxtend 0.19.0 requires matplotlib>=3.0.0, which is not installed.\n",
      "plotnine 0.8.0 requires matplotlib>=3.1.1, which is not installed.\n",
      "scikit-image 0.17.2 requires matplotlib!=3.0.0,>=2.0.0, which is not installed.\n",
      "seaborn 0.12.2 requires matplotlib!=3.6.1,>=3.1, which is not installed.\n",
      "lightautoml 0.3.3 requires lightgbm<3.0,>=2.3, but you have lightgbm 3.3.0 which is incompatible.\n"
     ]
    },
    {
     "name": "stdout",
     "output_type": "stream",
     "text": [
      "Requirement already satisfied: lightgbm==3.3.0 in c:\\users\\szymo\\anaconda3\\lib\\site-packages (3.3.0)\n",
      "Requirement already satisfied: wheel in c:\\users\\szymo\\anaconda3\\lib\\site-packages (from lightgbm==3.3.0) (0.35.1)\n",
      "Requirement already satisfied: numpy in c:\\users\\szymo\\appdata\\roaming\\python\\python38\\site-packages (from lightgbm==3.3.0) (1.23.0)\n",
      "Requirement already satisfied: scipy in c:\\users\\szymo\\anaconda3\\lib\\site-packages (from lightgbm==3.3.0) (1.10.1)\n",
      "Requirement already satisfied: scikit-learn!=0.22.0 in c:\\users\\szymo\\anaconda3\\lib\\site-packages (from lightgbm==3.3.0) (1.0.1)\n",
      "Requirement already satisfied: joblib>=0.11 in c:\\users\\szymo\\anaconda3\\lib\\site-packages (from scikit-learn!=0.22.0->lightgbm==3.3.0) (0.17.0)\n",
      "Requirement already satisfied: threadpoolctl>=2.0.0 in c:\\users\\szymo\\anaconda3\\lib\\site-packages (from scikit-learn!=0.22.0->lightgbm==3.3.0) (2.1.0)\n"
     ]
    },
    {
     "name": "stderr",
     "output_type": "stream",
     "text": [
      "WARNING: Ignoring invalid distribution -atplotlib (c:\\users\\szymo\\anaconda3\\lib\\site-packages)\n",
      "WARNING: Ignoring invalid distribution -atplotlib (c:\\users\\szymo\\anaconda3\\lib\\site-packages)\n"
     ]
    },
    {
     "name": "stdout",
     "output_type": "stream",
     "text": [
      "Requirement already satisfied: scikit-learn==1.0.1 in c:\\users\\szymo\\anaconda3\\lib\\site-packages (1.0.1)\n",
      "Requirement already satisfied: numpy>=1.14.6 in c:\\users\\szymo\\appdata\\roaming\\python\\python38\\site-packages (from scikit-learn==1.0.1) (1.23.0)\n",
      "Requirement already satisfied: scipy>=1.1.0 in c:\\users\\szymo\\anaconda3\\lib\\site-packages (from scikit-learn==1.0.1) (1.10.1)\n",
      "Requirement already satisfied: joblib>=0.11 in c:\\users\\szymo\\anaconda3\\lib\\site-packages (from scikit-learn==1.0.1) (0.17.0)\n",
      "Requirement already satisfied: threadpoolctl>=2.0.0 in c:\\users\\szymo\\anaconda3\\lib\\site-packages (from scikit-learn==1.0.1) (2.1.0)\n"
     ]
    },
    {
     "name": "stderr",
     "output_type": "stream",
     "text": [
      "WARNING: Ignoring invalid distribution -atplotlib (c:\\users\\szymo\\anaconda3\\lib\\site-packages)\n",
      "WARNING: Ignoring invalid distribution -atplotlib (c:\\users\\szymo\\anaconda3\\lib\\site-packages)\n"
     ]
    },
    {
     "name": "stdout",
     "output_type": "stream",
     "text": [
      "Requirement already satisfied: jinja2==3.0.3 in c:\\users\\szymo\\anaconda3\\lib\\site-packages (3.0.3)\n",
      "Requirement already satisfied: MarkupSafe>=2.0 in c:\\users\\szymo\\anaconda3\\lib\\site-packages (from jinja2==3.0.3) (2.0.1)\n"
     ]
    },
    {
     "name": "stderr",
     "output_type": "stream",
     "text": [
      "WARNING: Ignoring invalid distribution -atplotlib (c:\\users\\szymo\\anaconda3\\lib\\site-packages)\n",
      "WARNING: Ignoring invalid distribution -atplotlib (c:\\users\\szymo\\anaconda3\\lib\\site-packages)\n",
      "WARNING: Ignoring invalid distribution -atplotlib (c:\\users\\szymo\\anaconda3\\lib\\site-packages)\n",
      "WARNING: Ignoring invalid distribution -atplotlib (c:\\users\\szymo\\anaconda3\\lib\\site-packages)\n",
      "ERROR: pip's dependency resolver does not currently take into account all the packages that are installed. This behaviour is the source of the following dependency conflicts.\n",
      "lightautoml 0.3.3 requires lightgbm<3.0,>=2.3, but you have lightgbm 3.3.0 which is incompatible.\n"
     ]
    }
   ],
   "source": [
    "!pip install --upgrade numpy==1.23.0 --user\n",
    "!pip install --upgrade lightgbm==3.3.0 --user\n",
    "!pip install --upgrade scikit-learn==1.0.1 --user\n",
    "!pip install --upgrade jinja2==3.0.3 --user\n",
    "!pip install --upgrade matplotlib>=3.5.0 --user"
   ]
  },
  {
   "cell_type": "code",
   "execution_count": 1,
   "metadata": {},
   "outputs": [],
   "source": [
    "#rozpakuj zip\n",
    "import gzip\n",
    "import shutil\n",
    "\n",
    "input_file = 'camelyonpatch_level_2_split_test_x.h5.gz'\n",
    "output_file = 'camelyonpatch_level_2_split_test_x.h5'\n",
    "\n",
    "with gzip.open(input_file, 'rb') as f_in:\n",
    "    with open(output_file, 'wb') as f_out:\n",
    "        shutil.copyfileobj(f_in, f_out)\n",
    "        \n",
    "        \n",
    "input_file = 'camelyonpatch_level_2_split_test_y.h5.gz'\n",
    "output_file = 'camelyonpatch_level_2_split_test_y.h5'\n",
    "\n",
    "with gzip.open(input_file, 'rb') as f_in:\n",
    "    with open(output_file, 'wb') as f_out:\n",
    "        shutil.copyfileobj(f_in, f_out)"
   ]
  },
  {
   "cell_type": "code",
   "execution_count": 25,
   "metadata": {},
   "outputs": [
    {
     "name": "stdout",
     "output_type": "stream",
     "text": [
      "Requirement already satisfied: h5py in c:\\users\\szymo\\anaconda3\\lib\\site-packages (2.10.0)\n",
      "Collecting h5py\n",
      "  Using cached h5py-3.8.0-cp38-cp38-win_amd64.whl (2.7 MB)\n",
      "Requirement already satisfied: keras in c:\\users\\szymo\\anaconda3\\lib\\site-packages (2.12.0)\n",
      "Requirement already satisfied: numpy in c:\\users\\szymo\\appdata\\roaming\\python\\python38\\site-packages (1.23.0)\n",
      "Collecting numpy\n",
      "  Using cached numpy-1.24.3-cp38-cp38-win_amd64.whl (14.9 MB)\n",
      "Requirement already satisfied: tensorflow in c:\\users\\szymo\\anaconda3\\lib\\site-packages (2.12.0)\n",
      "Requirement already satisfied: scikit-learn in c:\\users\\szymo\\anaconda3\\lib\\site-packages (1.0.1)\n",
      "Collecting scikit-learn\n",
      "  Using cached scikit_learn-1.2.2-cp38-cp38-win_amd64.whl (8.3 MB)\n",
      "Requirement already satisfied: scipy in c:\\users\\szymo\\anaconda3\\lib\\site-packages (1.10.1)\n",
      "Requirement already satisfied: tensorflow-intel==2.12.0 in c:\\users\\szymo\\anaconda3\\lib\\site-packages (from tensorflow) (2.12.0)\n",
      "Requirement already satisfied: absl-py>=1.0.0 in c:\\users\\szymo\\anaconda3\\lib\\site-packages (from tensorflow-intel==2.12.0->tensorflow) (1.4.0)\n",
      "Requirement already satisfied: astunparse>=1.6.0 in c:\\users\\szymo\\anaconda3\\lib\\site-packages (from tensorflow-intel==2.12.0->tensorflow) (1.6.3)\n",
      "Requirement already satisfied: flatbuffers>=2.0 in c:\\users\\szymo\\anaconda3\\lib\\site-packages (from tensorflow-intel==2.12.0->tensorflow) (23.3.3)\n",
      "Requirement already satisfied: gast<=0.4.0,>=0.2.1 in c:\\users\\szymo\\anaconda3\\lib\\site-packages (from tensorflow-intel==2.12.0->tensorflow) (0.4.0)\n",
      "Requirement already satisfied: google-pasta>=0.1.1 in c:\\users\\szymo\\anaconda3\\lib\\site-packages (from tensorflow-intel==2.12.0->tensorflow) (0.2.0)\n",
      "Requirement already satisfied: jax>=0.3.15 in c:\\users\\szymo\\anaconda3\\lib\\site-packages (from tensorflow-intel==2.12.0->tensorflow) (0.4.8)\n",
      "Requirement already satisfied: libclang>=13.0.0 in c:\\users\\szymo\\anaconda3\\lib\\site-packages (from tensorflow-intel==2.12.0->tensorflow) (16.0.0)\n",
      "Collecting numpy\n",
      "  Using cached numpy-1.23.5-cp38-cp38-win_amd64.whl (14.7 MB)\n",
      "Requirement already satisfied: opt-einsum>=2.3.2 in c:\\users\\szymo\\anaconda3\\lib\\site-packages (from tensorflow-intel==2.12.0->tensorflow) (3.3.0)\n",
      "Requirement already satisfied: packaging in c:\\users\\szymo\\anaconda3\\lib\\site-packages (from tensorflow-intel==2.12.0->tensorflow) (21.3)\n",
      "Requirement already satisfied: protobuf!=4.21.0,!=4.21.1,!=4.21.2,!=4.21.3,!=4.21.4,!=4.21.5,<5.0.0dev,>=3.20.3 in c:\\users\\szymo\\anaconda3\\lib\\site-packages (from tensorflow-intel==2.12.0->tensorflow) (4.22.3)\n",
      "Requirement already satisfied: setuptools in c:\\users\\szymo\\anaconda3\\lib\\site-packages (from tensorflow-intel==2.12.0->tensorflow) (50.3.1.post20201107)\n",
      "Requirement already satisfied: six>=1.12.0 in c:\\users\\szymo\\anaconda3\\lib\\site-packages (from tensorflow-intel==2.12.0->tensorflow) (1.15.0)\n",
      "Requirement already satisfied: termcolor>=1.1.0 in c:\\users\\szymo\\anaconda3\\lib\\site-packages (from tensorflow-intel==2.12.0->tensorflow) (2.2.0)\n",
      "Requirement already satisfied: typing-extensions>=3.6.6 in c:\\users\\szymo\\anaconda3\\lib\\site-packages (from tensorflow-intel==2.12.0->tensorflow) (4.4.0)\n",
      "Requirement already satisfied: wrapt<1.15,>=1.11.0 in c:\\users\\szymo\\anaconda3\\lib\\site-packages (from tensorflow-intel==2.12.0->tensorflow) (1.11.2)\n",
      "Requirement already satisfied: grpcio<2.0,>=1.24.3 in c:\\users\\szymo\\anaconda3\\lib\\site-packages (from tensorflow-intel==2.12.0->tensorflow) (1.53.0)\n",
      "Requirement already satisfied: tensorboard<2.13,>=2.12 in c:\\users\\szymo\\anaconda3\\lib\\site-packages (from tensorflow-intel==2.12.0->tensorflow) (2.12.2)\n",
      "Requirement already satisfied: tensorflow-estimator<2.13,>=2.12.0 in c:\\users\\szymo\\anaconda3\\lib\\site-packages (from tensorflow-intel==2.12.0->tensorflow) (2.12.0)\n",
      "Requirement already satisfied: tensorflow-io-gcs-filesystem>=0.23.1 in c:\\users\\szymo\\anaconda3\\lib\\site-packages (from tensorflow-intel==2.12.0->tensorflow) (0.31.0)\n",
      "Collecting joblib>=1.1.1 (from scikit-learn)\n",
      "  Using cached joblib-1.2.0-py3-none-any.whl (297 kB)\n",
      "Requirement already satisfied: threadpoolctl>=2.0.0 in c:\\users\\szymo\\anaconda3\\lib\\site-packages (from scikit-learn) (2.1.0)\n",
      "Requirement already satisfied: wheel<1.0,>=0.23.0 in c:\\users\\szymo\\anaconda3\\lib\\site-packages (from astunparse>=1.6.0->tensorflow-intel==2.12.0->tensorflow) (0.35.1)\n",
      "Requirement already satisfied: ml-dtypes>=0.0.3 in c:\\users\\szymo\\anaconda3\\lib\\site-packages (from jax>=0.3.15->tensorflow-intel==2.12.0->tensorflow) (0.1.0)\n",
      "Requirement already satisfied: google-auth<3,>=1.6.3 in c:\\users\\szymo\\anaconda3\\lib\\site-packages (from tensorboard<2.13,>=2.12->tensorflow-intel==2.12.0->tensorflow) (2.17.3)\n",
      "Requirement already satisfied: google-auth-oauthlib<1.1,>=0.5 in c:\\users\\szymo\\anaconda3\\lib\\site-packages (from tensorboard<2.13,>=2.12->tensorflow-intel==2.12.0->tensorflow) (1.0.0)\n",
      "Requirement already satisfied: markdown>=2.6.8 in c:\\users\\szymo\\anaconda3\\lib\\site-packages (from tensorboard<2.13,>=2.12->tensorflow-intel==2.12.0->tensorflow) (3.4.3)\n",
      "Requirement already satisfied: requests<3,>=2.21.0 in c:\\users\\szymo\\anaconda3\\lib\\site-packages (from tensorboard<2.13,>=2.12->tensorflow-intel==2.12.0->tensorflow) (2.28.1)\n",
      "Requirement already satisfied: tensorboard-data-server<0.8.0,>=0.7.0 in c:\\users\\szymo\\anaconda3\\lib\\site-packages (from tensorboard<2.13,>=2.12->tensorflow-intel==2.12.0->tensorflow) (0.7.0)\n",
      "Requirement already satisfied: tensorboard-plugin-wit>=1.6.0 in c:\\users\\szymo\\anaconda3\\lib\\site-packages (from tensorboard<2.13,>=2.12->tensorflow-intel==2.12.0->tensorflow) (1.8.1)\n",
      "Requirement already satisfied: werkzeug>=1.0.1 in c:\\users\\szymo\\anaconda3\\lib\\site-packages (from tensorboard<2.13,>=2.12->tensorflow-intel==2.12.0->tensorflow) (1.0.1)\n",
      "Requirement already satisfied: pyparsing!=3.0.5,>=2.0.2 in c:\\users\\szymo\\anaconda3\\lib\\site-packages (from packaging->tensorflow-intel==2.12.0->tensorflow) (2.4.7)\n",
      "Requirement already satisfied: cachetools<6.0,>=2.0.0 in c:\\users\\szymo\\anaconda3\\lib\\site-packages (from google-auth<3,>=1.6.3->tensorboard<2.13,>=2.12->tensorflow-intel==2.12.0->tensorflow) (5.2.0)\n",
      "Requirement already satisfied: pyasn1-modules>=0.2.1 in c:\\users\\szymo\\anaconda3\\lib\\site-packages (from google-auth<3,>=1.6.3->tensorboard<2.13,>=2.12->tensorflow-intel==2.12.0->tensorflow) (0.2.8)\n",
      "Requirement already satisfied: rsa<5,>=3.1.4 in c:\\users\\szymo\\anaconda3\\lib\\site-packages (from google-auth<3,>=1.6.3->tensorboard<2.13,>=2.12->tensorflow-intel==2.12.0->tensorflow) (4.9)\n",
      "Requirement already satisfied: requests-oauthlib>=0.7.0 in c:\\users\\szymo\\anaconda3\\lib\\site-packages (from google-auth-oauthlib<1.1,>=0.5->tensorboard<2.13,>=2.12->tensorflow-intel==2.12.0->tensorflow) (1.3.1)\n",
      "Requirement already satisfied: importlib-metadata>=4.4 in c:\\users\\szymo\\anaconda3\\lib\\site-packages (from markdown>=2.6.8->tensorboard<2.13,>=2.12->tensorflow-intel==2.12.0->tensorflow) (6.4.1)\n",
      "Requirement already satisfied: charset-normalizer<3,>=2 in c:\\users\\szymo\\anaconda3\\lib\\site-packages (from requests<3,>=2.21.0->tensorboard<2.13,>=2.12->tensorflow-intel==2.12.0->tensorflow) (2.0.4)\n",
      "Requirement already satisfied: idna<4,>=2.5 in c:\\users\\szymo\\anaconda3\\lib\\site-packages (from requests<3,>=2.21.0->tensorboard<2.13,>=2.12->tensorflow-intel==2.12.0->tensorflow) (2.10)\n",
      "Requirement already satisfied: urllib3<1.27,>=1.21.1 in c:\\users\\szymo\\anaconda3\\lib\\site-packages (from requests<3,>=2.21.0->tensorboard<2.13,>=2.12->tensorflow-intel==2.12.0->tensorflow) (1.26.14)\n",
      "Requirement already satisfied: certifi>=2017.4.17 in c:\\users\\szymo\\anaconda3\\lib\\site-packages (from requests<3,>=2.21.0->tensorboard<2.13,>=2.12->tensorflow-intel==2.12.0->tensorflow) (2022.12.7)\n",
      "Requirement already satisfied: zipp>=0.5 in c:\\users\\szymo\\anaconda3\\lib\\site-packages (from importlib-metadata>=4.4->markdown>=2.6.8->tensorboard<2.13,>=2.12->tensorflow-intel==2.12.0->tensorflow) (3.4.0)\n",
      "Requirement already satisfied: pyasn1<0.5.0,>=0.4.6 in c:\\users\\szymo\\anaconda3\\lib\\site-packages (from pyasn1-modules>=0.2.1->google-auth<3,>=1.6.3->tensorboard<2.13,>=2.12->tensorflow-intel==2.12.0->tensorflow) (0.4.8)\n",
      "Requirement already satisfied: oauthlib>=3.0.0 in c:\\users\\szymo\\anaconda3\\lib\\site-packages (from requests-oauthlib>=0.7.0->google-auth-oauthlib<1.1,>=0.5->tensorboard<2.13,>=2.12->tensorflow-intel==2.12.0->tensorflow) (3.2.2)\n",
      "Installing collected packages: numpy, joblib, h5py, scikit-learn\n",
      "  Attempting uninstall: numpy\n",
      "    Found existing installation: numpy 1.23.0\n",
      "    Uninstalling numpy-1.23.0:\n",
      "      Successfully uninstalled numpy-1.23.0\n",
      "Successfully installed h5py-3.8.0 joblib-1.2.0 numpy-1.23.5 scikit-learn-1.2.2\n"
     ]
    },
    {
     "name": "stderr",
     "output_type": "stream",
     "text": [
      "WARNING: Ignoring invalid distribution -atplotlib (c:\\users\\szymo\\anaconda3\\lib\\site-packages)\n",
      "WARNING: Ignoring invalid distribution -atplotlib (c:\\users\\szymo\\anaconda3\\lib\\site-packages)\n",
      "  WARNING: The script f2py.exe is installed in 'C:\\Users\\szymo\\AppData\\Roaming\\Python\\Python38\\Scripts' which is not on PATH.\n",
      "  Consider adding this directory to PATH or, if you prefer to suppress this warning, use --no-warn-script-location.\n",
      "ERROR: pip's dependency resolver does not currently take into account all the packages that are installed. This behaviour is the source of the following dependency conflicts.\n",
      "verstack 2.0.6 requires scikit-learn==1.0.1, but you have scikit-learn 1.2.2 which is incompatible.\n",
      "lightautoml 0.3.3 requires lightgbm<3.0,>=2.3, but you have lightgbm 3.3.0 which is incompatible.\n"
     ]
    }
   ],
   "source": [
    "!pip install --upgrade h5py keras numpy tensorflow scikit-learn scipy --user"
   ]
  },
  {
   "cell_type": "code",
   "execution_count": 1,
   "metadata": {},
   "outputs": [],
   "source": [
    "import h5py\n",
    "\n",
    "from keras.preprocessing.image import ImageDataGenerator\n",
    "import numpy as np\n",
    "import h5py\n",
    "import numpy as np\n",
    "from keras.models import Sequential\n",
    "from keras.layers import Dense, Flatten, Conv2D, MaxPooling2D\n",
    "import keras\n",
    "from tensorflow.keras.callbacks import Callback\n",
    "from sklearn.ensemble import IsolationForest\n",
    "from sklearn.neighbors import LocalOutlierFactor\n",
    "from sklearn.svm import OneClassSVM\n",
    "from sklearn.metrics import accuracy_score, f1_score, recall_score, precision_score \n",
    "from scipy.stats import mode"
   ]
  },
  {
   "cell_type": "markdown",
   "metadata": {},
   "source": [
    "## Przygotowanie zbioru danych"
   ]
  },
  {
   "cell_type": "code",
   "execution_count": 2,
   "metadata": {},
   "outputs": [],
   "source": [
    "#funkcja do podziału danych, ratio_1_0 = ile procent 0 w zbiorze\n",
    "np.random.seed(243)\n",
    "def split_data(x, y, train_ratio, val_ratio, test_ratio,ratio_1_0=0.85):\n",
    "    class_0_indices = np.where(y == 0)[0]\n",
    "    class_1_indices = np.where(y == 1)[0]\n",
    "    \n",
    "    total_samples = len(x)\n",
    "    class_0_size = len(class_0_indices)\n",
    "\n",
    "    class_1_size = int((class_0_size/ratio_1_0)) - class_0_size\n",
    "   \n",
    "    np.random.shuffle(class_0_indices)\n",
    "    np.random.shuffle(class_1_indices)\n",
    "\n",
    "    train_size_0 = int(class_0_size * train_ratio)\n",
    "    val_size_0 = int(class_0_size * val_ratio)\n",
    "    train_size_1 = int(class_1_size * train_ratio)\n",
    "    val_size_1 = int(class_1_size * val_ratio)\n",
    "    test_size_1 = int(class_1_size * test_ratio)\n",
    "    test_size_0 = int(class_0_size * test_ratio)\n",
    "    \n",
    "    x_train = np.concatenate([x[class_0_indices[:train_size_0]], x[class_1_indices[:train_size_1]]])\n",
    "    y_train = np.concatenate([y[class_0_indices[:train_size_0]], y[class_1_indices[:train_size_1]]])\n",
    "    x_val = np.concatenate([x[class_0_indices[train_size_0:train_size_0 + val_size_0]], x[class_1_indices[train_size_1:train_size_1 + val_size_1]]])\n",
    "    y_val = np.concatenate([y[class_0_indices[train_size_0:train_size_0 + val_size_0]], y[class_1_indices[train_size_1:train_size_1 + val_size_1]]])\n",
    "    x_test = np.concatenate([x[class_0_indices[train_size_0 + val_size_0:train_size_0 + val_size_0+test_size_0]], x[class_1_indices[train_size_1 + val_size_1:test_size_1+train_size_1 + val_size_1]]])\n",
    "    y_test = np.concatenate([y[class_0_indices[train_size_0 + val_size_0:train_size_0 + val_size_0+test_size_0]], y[class_1_indices[train_size_1 + val_size_1:test_size_1+train_size_1 + val_size_1]]])\n",
    "\n",
    "    train_indices = np.arange(len(x_train))\n",
    "    val_indices = np.arange(len(x_val))\n",
    "    test_indices = np.arange(len(x_test))\n",
    "    np.random.shuffle(train_indices)\n",
    "    np.random.shuffle(val_indices)\n",
    "    np.random.shuffle(test_indices)\n",
    "\n",
    "    x_train, y_train = x_train[train_indices], y_train[train_indices]\n",
    "    x_val, y_val = x_val[val_indices], y_val[val_indices]\n",
    "    x_test, y_test = x_test[test_indices], y_test[test_indices]\n",
    "\n",
    "    return (x_train, y_train), (x_val, y_val), (x_test, y_test)\n",
    "\n",
    "\n",
    "with h5py.File('camelyonpatch_level_2_split_test_x.h5', 'r') as f:\n",
    "    x_data = f['x'][:]\n",
    "\n",
    "with h5py.File('camelyonpatch_level_2_split_test_y.h5', 'r') as f:\n",
    "    y_data = f['y'][:]\n",
    "\n",
    "(x_train, y_train), (x_val,y_val) , (x_test, y_test) = split_data(x_data, y_data, 0.3, 0.1,0.3)\n",
    "\n",
    "datagen = ImageDataGenerator(\n",
    "    preprocessing_function=lambda x: x / 255.,\n",
    "    width_shift_range=4,  \n",
    "    height_shift_range=4,  \n",
    "    horizontal_flip=True,  \n",
    "    vertical_flip=True)  "
   ]
  },
  {
   "cell_type": "code",
   "execution_count": 3,
   "metadata": {},
   "outputs": [
    {
     "name": "stdout",
     "output_type": "stream",
     "text": [
      "x_train shape: (9834, 96, 96, 3)\n",
      "y_train shape: (9834, 1, 1, 1)\n",
      "x_val shape: (3278, 96, 96, 3)\n",
      "y_val shape: (3278, 1, 1, 1)\n",
      "x_test shape: (9834, 96, 96, 3)\n",
      "y_test shape: (9834, 1, 1, 1)\n",
      "Ilość obserwacji w train: 9834\n",
      "Ilość 1 w train: 4917\n",
      "Ilość obserwacji w walidacji: 3278\n",
      "Ilość 1 w walidacji: 1639\n",
      "Ilość obserwacji w test: 9834\n",
      "Ilość 1 w test: 4917\n"
     ]
    }
   ],
   "source": [
    "print(\"x_train shape:\", x_train.shape)\n",
    "print(\"y_train shape:\", y_train.shape)\n",
    "print(\"x_val shape:\", x_val.shape)\n",
    "print(\"y_val shape:\", y_val.shape)\n",
    "print(\"x_test shape:\", x_test.shape)\n",
    "print(\"y_test shape:\", y_test.shape)\n",
    "n_w = len(y_train)\n",
    "n_1 =y_train.sum()\n",
    "\n",
    "print(\"Ilość obserwacji w train:\", n_w)\n",
    "print(\"Ilość 1 w train:\", n_1)\n",
    "n_w = len(y_val)\n",
    "n_1 =y_val.sum()\n",
    "print(\"Ilość obserwacji w walidacji:\", n_w)\n",
    "print(\"Ilość 1 w walidacji:\", n_1)\n",
    "n_w = len(y_test)\n",
    "n_1 =y_test.sum()\n",
    "print(\"Ilość obserwacji w test:\", n_w)\n",
    "print(\"Ilość 1 w test:\", n_1)"
   ]
  },
  {
   "cell_type": "code",
   "execution_count": 4,
   "metadata": {},
   "outputs": [],
   "source": [
    "y_test = np.reshape(y_test, (y_test.shape[0], 1))\n",
    "y_train = np.reshape(y_train, (y_train.shape[0], 1))\n",
    "y_val = np.reshape(y_val, (y_val.shape[0], 1))"
   ]
  },
  {
   "cell_type": "markdown",
   "metadata": {},
   "source": [
    "## Zmiana barwy zdjęcia"
   ]
  },
  {
   "cell_type": "code",
   "execution_count": 6,
   "metadata": {},
   "outputs": [],
   "source": [
    "#import albumentations as A\n",
    "import cv2\n",
    "#from PIL import Image\n",
    "import matplotlib.pyplot as plt\n",
    "from skimage import color\n",
    "from skimage import io\n",
    "from skimage import exposure\n",
    "import random"
   ]
  },
  {
   "cell_type": "code",
   "execution_count": 4,
   "metadata": {},
   "outputs": [],
   "source": [
    "def transform_color(dataset):\n",
    "    return color.rgb2gray(dataset)"
   ]
  },
  {
   "cell_type": "code",
   "execution_count": 5,
   "metadata": {},
   "outputs": [],
   "source": [
    "def transform_color_clahe(dataset):\n",
    "    return exposure.equalize_adapthist(dataset)"
   ]
  },
  {
   "cell_type": "code",
   "execution_count": 36,
   "metadata": {},
   "outputs": [],
   "source": [
    "transformed_x_train = transform_color(x_train)\n",
    "transformed_x_val = transform_color(x_val)\n",
    "transformed_x_test = transform_color(x_test)\n",
    "clahe_transformed_x_train = transform_color_clahe(transformed_x_train)\n",
    "clahe_transformed_x_val = transform_color_clahe(transformed_x_val)\n",
    "clahe_transformed_x_test = transform_color_clahe(transformed_x_test)"
   ]
  },
  {
   "cell_type": "code",
   "execution_count": 48,
   "metadata": {},
   "outputs": [],
   "source": [
    "rgb_batch_x_train = np.repeat(clahe_transformed_x_train[..., np.newaxis], 3, -1)\n",
    "rgb_batch_x_val = np.repeat(clahe_transformed_x_val[..., np.newaxis], 3, -1)\n",
    "rgb_batch_x_test = np.repeat(clahe_transformed_x_test[..., np.newaxis], 3, -1)"
   ]
  },
  {
   "cell_type": "code",
   "execution_count": 45,
   "metadata": {},
   "outputs": [],
   "source": [
    "def present_transformation(dataset, transformed_dataset, clahe_transformed_dataset, n=4):\n",
    "    fig, axs = plt.subplots(3, n)\n",
    "    \n",
    "    for i in range(n):\n",
    "        idx = random.randint(0, len(dataset))\n",
    "        \n",
    "        axs[0, i].imshow(dataset[idx])\n",
    "        axs[0, i].axis('off')\n",
    "        \n",
    "        axs[1, i].imshow(transformed_dataset[idx], cmap=\"gray\")\n",
    "        axs[1, i].axis('off')\n",
    "        \n",
    "        axs[2, i].imshow(clahe_transformed_dataset[idx], cmap=\"gray\")\n",
    "        axs[2, i].axis('off')        \n",
    "        \n",
    "        axs[0, i].set_title(f'Patch {idx}', fontsize=10)\n",
    "    \n",
    "    plt.tight_layout()\n",
    "    plt.show()"
   ]
  },
  {
   "cell_type": "code",
   "execution_count": 46,
   "metadata": {},
   "outputs": [
    {
     "data": {
      "image/png": "[encoded data removed]",
      "text/plain": [
       "<Figure size 432x288 with 12 Axes>"
      ]
     },
     "metadata": {
      "needs_background": "light"
     },
     "output_type": "display_data"
    }
   ],
   "source": [
    "present_transformation(x_train, transformed_x_train, clahe_transformed_x_train, n=4)"
   ]
  },
  {
   "cell_type": "markdown",
   "metadata": {},
   "source": [
    "# Modelowanie bez koloru"
   ]
  },
  {
   "cell_type": "markdown",
   "metadata": {},
   "source": [
    "## Trening modelu"
   ]
  },
  {
   "cell_type": "code",
   "execution_count": 24,
   "metadata": {},
   "outputs": [],
   "source": [
    "from tensorflow.keras.callbacks import Callback\n",
    "\n",
    "class MetricsCallback(Callback):\n",
    "    def on_epoch_end(self, epoch, logs=None):\n",
    "        val_preds = self.model.predict(x_val)\n",
    "        val_preds = val_preds.astype(int)\n",
    "        #val_preds = np.argmax(val_preds, axis=1)\n",
    "\n",
    "        val_accuracy = accuracy_score(y_val, val_preds)\n",
    "        val_precision = precision_score(y_val, val_preds)\n",
    "        val_recall = recall_score(y_val, val_preds)\n",
    "        val_f1_score = f1_score(y_val, val_preds)\n",
    "\n",
    "        print(f\"Validation accuracy: {val_accuracy:.4f}\")\n",
    "        print(f\"Validation precision: {val_precision:.4f}\")\n",
    "        print(f\"Validation recall: {val_recall:.4f}\")\n",
    "        print(f\"Validation F1-score: {val_f1_score:.4f}\\n\")\n",
    "\n",
    "metrics_callback = MetricsCallback()\n",
    "\n",
    "#y_val_one_hot = keras.utils.to_categorical(y_val, num_classes=2)"
   ]
  },
  {
   "cell_type": "code",
   "execution_count": 61,
   "metadata": {},
   "outputs": [],
   "source": [
    "(x_train, y_train), (x_val,y_val) , (x_test, y_test) = split_data(x_data, y_data, 0.3, 0.1,0.3, 0.5)\n",
    "\n",
    "transformed_x_train = transform_color(x_train)\n",
    "transformed_x_val = transform_color(x_val)\n",
    "transformed_x_test = transform_color(x_test)\n",
    "clahe_transformed_x_train = transform_color_clahe(transformed_x_train)\n",
    "clahe_transformed_x_val = transform_color_clahe(transformed_x_val)\n",
    "clahe_transformed_x_test = transform_color_clahe(transformed_x_test)\n",
    "\n",
    "rgb_batch_x_train = np.repeat(clahe_transformed_x_train[..., np.newaxis], 3, -1)\n",
    "rgb_batch_x_val = np.repeat(clahe_transformed_x_val[..., np.newaxis], 3, -1)\n",
    "rgb_batch_x_test = np.repeat(clahe_transformed_x_test[..., np.newaxis], 3, -1)\n",
    "\n",
    "y_test = np.reshape(y_test, (y_test.shape[0], 1))\n",
    "y_train = np.reshape(y_train, (y_train.shape[0], 1))\n",
    "y_val = np.reshape(y_val, (y_val.shape[0], 1))"
   ]
  },
  {
   "cell_type": "code",
   "execution_count": 62,
   "metadata": {},
   "outputs": [
    {
     "name": "stdout",
     "output_type": "stream",
     "text": [
      "Epoch 1/25\n",
      "103/103 [==============================] - 5s 44ms/step\n",
      "Validation accuracy: 0.5000\n",
      "Validation precision: 0.0000\n",
      "Validation recall: 0.0000\n",
      "Validation F1-score: 0.0000\n",
      "\n",
      "38/38 [==============================] - 68s 2s/step - loss: 0.6696 - accuracy: 0.5840 - val_loss: 182.1376 - val_accuracy: 0.5000\n",
      "Epoch 2/25\n"
     ]
    },
    {
     "name": "stderr",
     "output_type": "stream",
     "text": [
      "C:\\Users\\szymo\\AppData\\Roaming\\Python\\Python38\\site-packages\\sklearn\\metrics\\_classification.py:1344: UndefinedMetricWarning: Precision is ill-defined and being set to 0.0 due to no predicted samples. Use `zero_division` parameter to control this behavior.\n",
      "  _warn_prf(average, modifier, msg_start, len(result))\n"
     ]
    },
    {
     "name": "stdout",
     "output_type": "stream",
     "text": [
      "103/103 [==============================] - 5s 46ms/step\n",
      "Validation accuracy: 0.5000\n",
      "Validation precision: 0.0000\n",
      "Validation recall: 0.0000\n",
      "Validation F1-score: 0.0000\n",
      "\n",
      "38/38 [==============================] - 68s 2s/step - loss: 0.6396 - accuracy: 0.6323 - val_loss: 299.6600 - val_accuracy: 0.5000\n",
      "Epoch 3/25\n"
     ]
    },
    {
     "name": "stderr",
     "output_type": "stream",
     "text": [
      "C:\\Users\\szymo\\AppData\\Roaming\\Python\\Python38\\site-packages\\sklearn\\metrics\\_classification.py:1344: UndefinedMetricWarning: Precision is ill-defined and being set to 0.0 due to no predicted samples. Use `zero_division` parameter to control this behavior.\n",
      "  _warn_prf(average, modifier, msg_start, len(result))\n"
     ]
    },
    {
     "name": "stdout",
     "output_type": "stream",
     "text": [
      "103/103 [==============================] - 6s 53ms/step\n",
      "Validation accuracy: 0.5000\n",
      "Validation precision: 0.0000\n",
      "Validation recall: 0.0000\n",
      "Validation F1-score: 0.0000\n",
      "\n",
      "38/38 [==============================] - 67s 2s/step - loss: 0.6241 - accuracy: 0.6422 - val_loss: 352.3156 - val_accuracy: 0.5000\n",
      "Epoch 4/25\n"
     ]
    },
    {
     "name": "stderr",
     "output_type": "stream",
     "text": [
      "C:\\Users\\szymo\\AppData\\Roaming\\Python\\Python38\\site-packages\\sklearn\\metrics\\_classification.py:1344: UndefinedMetricWarning: Precision is ill-defined and being set to 0.0 due to no predicted samples. Use `zero_division` parameter to control this behavior.\n",
      "  _warn_prf(average, modifier, msg_start, len(result))\n"
     ]
    },
    {
     "name": "stdout",
     "output_type": "stream",
     "text": [
      "103/103 [==============================] - 6s 55ms/step\n",
      "Validation accuracy: 0.5000\n",
      "Validation precision: 0.0000\n",
      "Validation recall: 0.0000\n",
      "Validation F1-score: 0.0000\n",
      "\n",
      "38/38 [==============================] - 73s 2s/step - loss: 0.6252 - accuracy: 0.6403 - val_loss: 308.8838 - val_accuracy: 0.5000\n",
      "Epoch 5/25\n"
     ]
    },
    {
     "name": "stderr",
     "output_type": "stream",
     "text": [
      "C:\\Users\\szymo\\AppData\\Roaming\\Python\\Python38\\site-packages\\sklearn\\metrics\\_classification.py:1344: UndefinedMetricWarning: Precision is ill-defined and being set to 0.0 due to no predicted samples. Use `zero_division` parameter to control this behavior.\n",
      "  _warn_prf(average, modifier, msg_start, len(result))\n"
     ]
    },
    {
     "name": "stdout",
     "output_type": "stream",
     "text": [
      "103/103 [==============================] - 6s 58ms/step\n",
      "Validation accuracy: 0.5000\n",
      "Validation precision: 0.0000\n",
      "Validation recall: 0.0000\n",
      "Validation F1-score: 0.0000\n",
      "\n",
      "38/38 [==============================] - 73s 2s/step - loss: 0.6223 - accuracy: 0.6403 - val_loss: 217.3093 - val_accuracy: 0.5000\n",
      "Epoch 6/25\n"
     ]
    },
    {
     "name": "stderr",
     "output_type": "stream",
     "text": [
      "C:\\Users\\szymo\\AppData\\Roaming\\Python\\Python38\\site-packages\\sklearn\\metrics\\_classification.py:1344: UndefinedMetricWarning: Precision is ill-defined and being set to 0.0 due to no predicted samples. Use `zero_division` parameter to control this behavior.\n",
      "  _warn_prf(average, modifier, msg_start, len(result))\n"
     ]
    },
    {
     "name": "stdout",
     "output_type": "stream",
     "text": [
      "103/103 [==============================] - 5s 53ms/step\n",
      "Validation accuracy: 0.5000\n",
      "Validation precision: 0.0000\n",
      "Validation recall: 0.0000\n",
      "Validation F1-score: 0.0000\n",
      "\n",
      "38/38 [==============================] - 73s 2s/step - loss: 0.6198 - accuracy: 0.6390 - val_loss: 242.9200 - val_accuracy: 0.5000\n",
      "Epoch 7/25\n"
     ]
    },
    {
     "name": "stderr",
     "output_type": "stream",
     "text": [
      "C:\\Users\\szymo\\AppData\\Roaming\\Python\\Python38\\site-packages\\sklearn\\metrics\\_classification.py:1344: UndefinedMetricWarning: Precision is ill-defined and being set to 0.0 due to no predicted samples. Use `zero_division` parameter to control this behavior.\n",
      "  _warn_prf(average, modifier, msg_start, len(result))\n"
     ]
    },
    {
     "name": "stdout",
     "output_type": "stream",
     "text": [
      "103/103 [==============================] - 6s 61ms/step\n",
      "Validation accuracy: 0.5000\n",
      "Validation precision: 0.0000\n",
      "Validation recall: 0.0000\n",
      "Validation F1-score: 0.0000\n",
      "\n",
      "38/38 [==============================] - 77s 2s/step - loss: 0.6139 - accuracy: 0.6439 - val_loss: 172.8380 - val_accuracy: 0.5000\n",
      "Epoch 8/25\n"
     ]
    },
    {
     "name": "stderr",
     "output_type": "stream",
     "text": [
      "C:\\Users\\szymo\\AppData\\Roaming\\Python\\Python38\\site-packages\\sklearn\\metrics\\_classification.py:1344: UndefinedMetricWarning: Precision is ill-defined and being set to 0.0 due to no predicted samples. Use `zero_division` parameter to control this behavior.\n",
      "  _warn_prf(average, modifier, msg_start, len(result))\n"
     ]
    },
    {
     "name": "stdout",
     "output_type": "stream",
     "text": [
      "103/103 [==============================] - 6s 53ms/step\n",
      "Validation accuracy: 0.5000\n",
      "Validation precision: 0.0000\n",
      "Validation recall: 0.0000\n",
      "Validation F1-score: 0.0000\n",
      "\n",
      "38/38 [==============================] - 79s 2s/step - loss: 0.6076 - accuracy: 0.6486 - val_loss: 143.8616 - val_accuracy: 0.5000\n",
      "Epoch 9/25\n"
     ]
    },
    {
     "name": "stderr",
     "output_type": "stream",
     "text": [
      "C:\\Users\\szymo\\AppData\\Roaming\\Python\\Python38\\site-packages\\sklearn\\metrics\\_classification.py:1344: UndefinedMetricWarning: Precision is ill-defined and being set to 0.0 due to no predicted samples. Use `zero_division` parameter to control this behavior.\n",
      "  _warn_prf(average, modifier, msg_start, len(result))\n"
     ]
    },
    {
     "name": "stdout",
     "output_type": "stream",
     "text": [
      "103/103 [==============================] - 6s 56ms/step\n",
      "Validation accuracy: 0.5000\n",
      "Validation precision: 0.0000\n",
      "Validation recall: 0.0000\n",
      "Validation F1-score: 0.0000\n",
      "\n",
      "38/38 [==============================] - 74s 2s/step - loss: 0.6050 - accuracy: 0.6517 - val_loss: 100.9846 - val_accuracy: 0.5000\n",
      "Epoch 10/25\n"
     ]
    },
    {
     "name": "stderr",
     "output_type": "stream",
     "text": [
      "C:\\Users\\szymo\\AppData\\Roaming\\Python\\Python38\\site-packages\\sklearn\\metrics\\_classification.py:1344: UndefinedMetricWarning: Precision is ill-defined and being set to 0.0 due to no predicted samples. Use `zero_division` parameter to control this behavior.\n",
      "  _warn_prf(average, modifier, msg_start, len(result))\n"
     ]
    },
    {
     "name": "stdout",
     "output_type": "stream",
     "text": [
      "103/103 [==============================] - 5s 51ms/step\n",
      "Validation accuracy: 0.5000\n",
      "Validation precision: 0.0000\n",
      "Validation recall: 0.0000\n",
      "Validation F1-score: 0.0000\n",
      "\n",
      "38/38 [==============================] - 76s 2s/step - loss: 0.5890 - accuracy: 0.6721 - val_loss: 106.5936 - val_accuracy: 0.5000\n",
      "Epoch 11/25\n"
     ]
    },
    {
     "name": "stderr",
     "output_type": "stream",
     "text": [
      "C:\\Users\\szymo\\AppData\\Roaming\\Python\\Python38\\site-packages\\sklearn\\metrics\\_classification.py:1344: UndefinedMetricWarning: Precision is ill-defined and being set to 0.0 due to no predicted samples. Use `zero_division` parameter to control this behavior.\n",
      "  _warn_prf(average, modifier, msg_start, len(result))\n"
     ]
    },
    {
     "name": "stdout",
     "output_type": "stream",
     "text": [
      "103/103 [==============================] - 5s 53ms/step\n",
      "Validation accuracy: 0.5000\n",
      "Validation precision: 0.0000\n",
      "Validation recall: 0.0000\n",
      "Validation F1-score: 0.0000\n",
      "\n",
      "38/38 [==============================] - 74s 2s/step - loss: 0.6082 - accuracy: 0.6455 - val_loss: 82.2615 - val_accuracy: 0.5000\n",
      "Epoch 12/25\n"
     ]
    },
    {
     "name": "stderr",
     "output_type": "stream",
     "text": [
      "C:\\Users\\szymo\\AppData\\Roaming\\Python\\Python38\\site-packages\\sklearn\\metrics\\_classification.py:1344: UndefinedMetricWarning: Precision is ill-defined and being set to 0.0 due to no predicted samples. Use `zero_division` parameter to control this behavior.\n",
      "  _warn_prf(average, modifier, msg_start, len(result))\n"
     ]
    },
    {
     "name": "stdout",
     "output_type": "stream",
     "text": [
      "103/103 [==============================] - 5s 52ms/step\n",
      "Validation accuracy: 0.5000\n",
      "Validation precision: 0.0000\n",
      "Validation recall: 0.0000\n",
      "Validation F1-score: 0.0000\n",
      "\n",
      "38/38 [==============================] - 78s 2s/step - loss: 0.6246 - accuracy: 0.6418 - val_loss: 136.4693 - val_accuracy: 0.5000\n",
      "Epoch 13/25\n"
     ]
    },
    {
     "name": "stderr",
     "output_type": "stream",
     "text": [
      "C:\\Users\\szymo\\AppData\\Roaming\\Python\\Python38\\site-packages\\sklearn\\metrics\\_classification.py:1344: UndefinedMetricWarning: Precision is ill-defined and being set to 0.0 due to no predicted samples. Use `zero_division` parameter to control this behavior.\n",
      "  _warn_prf(average, modifier, msg_start, len(result))\n"
     ]
    },
    {
     "name": "stdout",
     "output_type": "stream",
     "text": [
      "103/103 [==============================] - 6s 55ms/step\n",
      "Validation accuracy: 0.5000\n",
      "Validation precision: 0.0000\n",
      "Validation recall: 0.0000\n",
      "Validation F1-score: 0.0000\n",
      "\n",
      "38/38 [==============================] - 78s 2s/step - loss: 0.6118 - accuracy: 0.6417 - val_loss: 94.2122 - val_accuracy: 0.5000\n",
      "Epoch 14/25\n"
     ]
    },
    {
     "name": "stderr",
     "output_type": "stream",
     "text": [
      "C:\\Users\\szymo\\AppData\\Roaming\\Python\\Python38\\site-packages\\sklearn\\metrics\\_classification.py:1344: UndefinedMetricWarning: Precision is ill-defined and being set to 0.0 due to no predicted samples. Use `zero_division` parameter to control this behavior.\n",
      "  _warn_prf(average, modifier, msg_start, len(result))\n"
     ]
    },
    {
     "name": "stdout",
     "output_type": "stream",
     "text": [
      "103/103 [==============================] - 6s 55ms/step\n",
      "Validation accuracy: 0.5000\n",
      "Validation precision: 0.0000\n",
      "Validation recall: 0.0000\n",
      "Validation F1-score: 0.0000\n",
      "\n",
      "38/38 [==============================] - 74s 2s/step - loss: 0.5985 - accuracy: 0.6534 - val_loss: 81.5184 - val_accuracy: 0.5000\n",
      "Epoch 15/25\n"
     ]
    },
    {
     "name": "stderr",
     "output_type": "stream",
     "text": [
      "C:\\Users\\szymo\\AppData\\Roaming\\Python\\Python38\\site-packages\\sklearn\\metrics\\_classification.py:1344: UndefinedMetricWarning: Precision is ill-defined and being set to 0.0 due to no predicted samples. Use `zero_division` parameter to control this behavior.\n",
      "  _warn_prf(average, modifier, msg_start, len(result))\n"
     ]
    },
    {
     "name": "stdout",
     "output_type": "stream",
     "text": [
      "103/103 [==============================] - 6s 55ms/step\n",
      "Validation accuracy: 0.5000\n",
      "Validation precision: 0.0000\n",
      "Validation recall: 0.0000\n",
      "Validation F1-score: 0.0000\n",
      "\n",
      "38/38 [==============================] - 73s 2s/step - loss: 0.5769 - accuracy: 0.6905 - val_loss: 64.7838 - val_accuracy: 0.5000\n",
      "Epoch 16/25\n"
     ]
    },
    {
     "name": "stderr",
     "output_type": "stream",
     "text": [
      "C:\\Users\\szymo\\AppData\\Roaming\\Python\\Python38\\site-packages\\sklearn\\metrics\\_classification.py:1344: UndefinedMetricWarning: Precision is ill-defined and being set to 0.0 due to no predicted samples. Use `zero_division` parameter to control this behavior.\n",
      "  _warn_prf(average, modifier, msg_start, len(result))\n"
     ]
    },
    {
     "name": "stdout",
     "output_type": "stream",
     "text": [
      "103/103 [==============================] - 6s 55ms/step\n",
      "Validation accuracy: 0.5000\n",
      "Validation precision: 0.0000\n",
      "Validation recall: 0.0000\n",
      "Validation F1-score: 0.0000\n",
      "\n",
      "38/38 [==============================] - 72s 2s/step - loss: 0.5519 - accuracy: 0.7134 - val_loss: 56.2812 - val_accuracy: 0.5000\n",
      "Epoch 17/25\n"
     ]
    },
    {
     "name": "stderr",
     "output_type": "stream",
     "text": [
      "C:\\Users\\szymo\\AppData\\Roaming\\Python\\Python38\\site-packages\\sklearn\\metrics\\_classification.py:1344: UndefinedMetricWarning: Precision is ill-defined and being set to 0.0 due to no predicted samples. Use `zero_division` parameter to control this behavior.\n",
      "  _warn_prf(average, modifier, msg_start, len(result))\n"
     ]
    },
    {
     "name": "stdout",
     "output_type": "stream",
     "text": [
      "103/103 [==============================] - 6s 55ms/step\n",
      "Validation accuracy: 0.4997\n",
      "Validation precision: 0.0000\n",
      "Validation recall: 0.0000\n",
      "Validation F1-score: 0.0000\n",
      "\n",
      "38/38 [==============================] - 73s 2s/step - loss: 0.6050 - accuracy: 0.6659 - val_loss: 8.5318 - val_accuracy: 0.4997\n",
      "Epoch 18/25\n",
      "103/103 [==============================] - 5s 52ms/step\n",
      "Validation accuracy: 0.5000\n",
      "Validation precision: 0.0000\n",
      "Validation recall: 0.0000\n",
      "Validation F1-score: 0.0000\n",
      "\n",
      "38/38 [==============================] - 72s 2s/step - loss: 0.5522 - accuracy: 0.7311 - val_loss: 26.2415 - val_accuracy: 0.5000\n",
      "Epoch 19/25\n"
     ]
    },
    {
     "name": "stderr",
     "output_type": "stream",
     "text": [
      "C:\\Users\\szymo\\AppData\\Roaming\\Python\\Python38\\site-packages\\sklearn\\metrics\\_classification.py:1344: UndefinedMetricWarning: Precision is ill-defined and being set to 0.0 due to no predicted samples. Use `zero_division` parameter to control this behavior.\n",
      "  _warn_prf(average, modifier, msg_start, len(result))\n"
     ]
    },
    {
     "name": "stdout",
     "output_type": "stream",
     "text": [
      "103/103 [==============================] - 6s 54ms/step\n",
      "Validation accuracy: 0.5000\n",
      "Validation precision: 0.0000\n",
      "Validation recall: 0.0000\n",
      "Validation F1-score: 0.0000\n",
      "\n",
      "38/38 [==============================] - 73s 2s/step - loss: 0.5466 - accuracy: 0.7196 - val_loss: 36.7788 - val_accuracy: 0.5000\n",
      "Epoch 20/25\n"
     ]
    },
    {
     "name": "stderr",
     "output_type": "stream",
     "text": [
      "C:\\Users\\szymo\\AppData\\Roaming\\Python\\Python38\\site-packages\\sklearn\\metrics\\_classification.py:1344: UndefinedMetricWarning: Precision is ill-defined and being set to 0.0 due to no predicted samples. Use `zero_division` parameter to control this behavior.\n",
      "  _warn_prf(average, modifier, msg_start, len(result))\n"
     ]
    },
    {
     "name": "stdout",
     "output_type": "stream",
     "text": [
      "103/103 [==============================] - 6s 56ms/step\n",
      "Validation accuracy: 0.5000\n",
      "Validation precision: 0.0000\n",
      "Validation recall: 0.0000\n",
      "Validation F1-score: 0.0000\n",
      "\n",
      "38/38 [==============================] - 81s 2s/step - loss: 0.5380 - accuracy: 0.7362 - val_loss: 43.2380 - val_accuracy: 0.5000\n",
      "Epoch 21/25\n"
     ]
    },
    {
     "name": "stderr",
     "output_type": "stream",
     "text": [
      "C:\\Users\\szymo\\AppData\\Roaming\\Python\\Python38\\site-packages\\sklearn\\metrics\\_classification.py:1344: UndefinedMetricWarning: Precision is ill-defined and being set to 0.0 due to no predicted samples. Use `zero_division` parameter to control this behavior.\n",
      "  _warn_prf(average, modifier, msg_start, len(result))\n"
     ]
    },
    {
     "name": "stdout",
     "output_type": "stream",
     "text": [
      "103/103 [==============================] - 6s 57ms/step\n",
      "Validation accuracy: 0.5000\n",
      "Validation precision: 0.0000\n",
      "Validation recall: 0.0000\n",
      "Validation F1-score: 0.0000\n",
      "\n",
      "38/38 [==============================] - 73s 2s/step - loss: 0.4970 - accuracy: 0.7646 - val_loss: 38.9931 - val_accuracy: 0.5000\n",
      "Epoch 22/25\n"
     ]
    },
    {
     "name": "stderr",
     "output_type": "stream",
     "text": [
      "C:\\Users\\szymo\\AppData\\Roaming\\Python\\Python38\\site-packages\\sklearn\\metrics\\_classification.py:1344: UndefinedMetricWarning: Precision is ill-defined and being set to 0.0 due to no predicted samples. Use `zero_division` parameter to control this behavior.\n",
      "  _warn_prf(average, modifier, msg_start, len(result))\n"
     ]
    },
    {
     "name": "stdout",
     "output_type": "stream",
     "text": [
      "103/103 [==============================] - 5s 52ms/step\n",
      "Validation accuracy: 0.5000\n",
      "Validation precision: 0.0000\n",
      "Validation recall: 0.0000\n",
      "Validation F1-score: 0.0000\n",
      "\n",
      "38/38 [==============================] - 72s 2s/step - loss: 0.5142 - accuracy: 0.7452 - val_loss: 23.2684 - val_accuracy: 0.5000\n",
      "Epoch 23/25\n"
     ]
    },
    {
     "name": "stderr",
     "output_type": "stream",
     "text": [
      "C:\\Users\\szymo\\AppData\\Roaming\\Python\\Python38\\site-packages\\sklearn\\metrics\\_classification.py:1344: UndefinedMetricWarning: Precision is ill-defined and being set to 0.0 due to no predicted samples. Use `zero_division` parameter to control this behavior.\n",
      "  _warn_prf(average, modifier, msg_start, len(result))\n"
     ]
    },
    {
     "name": "stdout",
     "output_type": "stream",
     "text": [
      "103/103 [==============================] - 6s 55ms/step\n",
      "Validation accuracy: 0.5000\n",
      "Validation precision: 0.0000\n",
      "Validation recall: 0.0000\n",
      "Validation F1-score: 0.0000\n",
      "\n",
      "38/38 [==============================] - 72s 2s/step - loss: 0.5074 - accuracy: 0.7491 - val_loss: 40.8190 - val_accuracy: 0.5000\n",
      "Epoch 24/25\n"
     ]
    },
    {
     "name": "stderr",
     "output_type": "stream",
     "text": [
      "C:\\Users\\szymo\\AppData\\Roaming\\Python\\Python38\\site-packages\\sklearn\\metrics\\_classification.py:1344: UndefinedMetricWarning: Precision is ill-defined and being set to 0.0 due to no predicted samples. Use `zero_division` parameter to control this behavior.\n",
      "  _warn_prf(average, modifier, msg_start, len(result))\n"
     ]
    },
    {
     "name": "stdout",
     "output_type": "stream",
     "text": [
      "103/103 [==============================] - 6s 55ms/step\n",
      "Validation accuracy: 0.5000\n",
      "Validation precision: 0.0000\n",
      "Validation recall: 0.0000\n",
      "Validation F1-score: 0.0000\n",
      "\n",
      "38/38 [==============================] - 72s 2s/step - loss: 0.4904 - accuracy: 0.7661 - val_loss: 49.8107 - val_accuracy: 0.5000\n",
      "Epoch 25/25\n"
     ]
    },
    {
     "name": "stderr",
     "output_type": "stream",
     "text": [
      "C:\\Users\\szymo\\AppData\\Roaming\\Python\\Python38\\site-packages\\sklearn\\metrics\\_classification.py:1344: UndefinedMetricWarning: Precision is ill-defined and being set to 0.0 due to no predicted samples. Use `zero_division` parameter to control this behavior.\n",
      "  _warn_prf(average, modifier, msg_start, len(result))\n"
     ]
    },
    {
     "name": "stdout",
     "output_type": "stream",
     "text": [
      "103/103 [==============================] - 6s 55ms/step\n",
      "Validation accuracy: 0.5000\n",
      "Validation precision: 0.0000\n",
      "Validation recall: 0.0000\n",
      "Validation F1-score: 0.0000\n",
      "\n",
      "38/38 [==============================] - 72s 2s/step - loss: 0.5042 - accuracy: 0.7490 - val_loss: 49.9491 - val_accuracy: 0.5000\n"
     ]
    },
    {
     "name": "stderr",
     "output_type": "stream",
     "text": [
      "C:\\Users\\szymo\\AppData\\Roaming\\Python\\Python38\\site-packages\\sklearn\\metrics\\_classification.py:1344: UndefinedMetricWarning: Precision is ill-defined and being set to 0.0 due to no predicted samples. Use `zero_division` parameter to control this behavior.\n",
      "  _warn_prf(average, modifier, msg_start, len(result))\n"
     ]
    },
    {
     "data": {
      "text/plain": [
       "<keras.callbacks.History at 0x1f48065da30>"
      ]
     },
     "execution_count": 62,
     "metadata": {},
     "output_type": "execute_result"
    }
   ],
   "source": [
    "model = Sequential()\n",
    "model.add(Conv2D(32, (3, 3), activation='relu', input_shape=(96, 96, 3)))\n",
    "model.add(MaxPooling2D(pool_size=(2, 2)))\n",
    "model.add(Conv2D(64, (3, 3), activation='relu'))\n",
    "model.add(MaxPooling2D(pool_size=(2, 2)))\n",
    "model.add(Flatten())\n",
    "model.add(Dense(128, activation='relu'))\n",
    "model.add(Dense(30, activation='relu'))\n",
    "model.add(Dense(1, activation='sigmoid'))\n",
    "\n",
    "model.compile(optimizer='adam', loss='binary_crossentropy', metrics=['accuracy'])\n",
    "\n",
    "#y_train_one_hot = keras.utils.to_categorical(y_train, num_classes=2)\n",
    "\n",
    "model.fit(datagen.flow(rgb_batch_x_train, y_train, batch_size=256),\n",
    "                    steps_per_epoch=len(rgb_batch_x_train) // 256,\n",
    "                    epochs=25,\n",
    "\n",
    "                    callbacks=[metrics_callback],\n",
    "                    validation_data=(rgb_batch_x_val, y_val)\n",
    "         )"
   ]
  },
  {
   "cell_type": "code",
   "execution_count": 23,
   "metadata": {},
   "outputs": [
    {
     "data": {
      "text/plain": [
       "(9834, 96, 96, 3)"
      ]
     },
     "execution_count": 23,
     "metadata": {},
     "output_type": "execute_result"
    }
   ],
   "source": [
    "x_train.shape"
   ]
  },
  {
   "cell_type": "code",
   "execution_count": 63,
   "metadata": {},
   "outputs": [],
   "source": [
    "#Zapisz model\n",
    "model.save('model_sigmoid_gray.h5')"
   ]
  },
  {
   "cell_type": "code",
   "execution_count": 7,
   "metadata": {},
   "outputs": [],
   "source": [
    "(x_train, y_train), (x_val,y_val) , (x_test, y_test) = split_data(x_data, y_data, 0.3, 0.1,0.3, 0.85)\n",
    "\n",
    "transformed_x_train = transform_color(x_train)\n",
    "transformed_x_val = transform_color(x_val)\n",
    "transformed_x_test = transform_color(x_test)\n",
    "clahe_transformed_x_train = transform_color_clahe(transformed_x_train)\n",
    "clahe_transformed_x_val = transform_color_clahe(transformed_x_val)\n",
    "clahe_transformed_x_test = transform_color_clahe(transformed_x_test)\n",
    "\n",
    "rgb_batch_x_train = np.repeat(clahe_transformed_x_train[..., np.newaxis], 3, -1)\n",
    "rgb_batch_x_val = np.repeat(clahe_transformed_x_val[..., np.newaxis], 3, -1)\n",
    "rgb_batch_x_test = np.repeat(clahe_transformed_x_test[..., np.newaxis], 3, -1)\n",
    "\n",
    "y_test = np.reshape(y_test, (y_test.shape[0], 1))\n",
    "y_train = np.reshape(y_train, (y_train.shape[0], 1))\n",
    "y_val = np.reshape(y_val, (y_val.shape[0], 1))"
   ]
  },
  {
   "cell_type": "code",
   "execution_count": 65,
   "metadata": {},
   "outputs": [
    {
     "name": "stdout",
     "output_type": "stream",
     "text": [
      "181/181 [==============================] - 12s 63ms/step\n",
      "Test accuracy: 0.8501\n",
      "Test precision: 0.0000\n",
      "Test recall: 0.0000\n",
      "Test F1-score: 0.0000\n",
      "\n"
     ]
    },
    {
     "name": "stderr",
     "output_type": "stream",
     "text": [
      "C:\\Users\\szymo\\AppData\\Roaming\\Python\\Python38\\site-packages\\sklearn\\metrics\\_classification.py:1344: UndefinedMetricWarning: Precision is ill-defined and being set to 0.0 due to no predicted samples. Use `zero_division` parameter to control this behavior.\n",
      "  _warn_prf(average, modifier, msg_start, len(result))\n"
     ]
    }
   ],
   "source": [
    "val_preds = model.predict(rgb_batch_x_test)\n",
    "#val_preds = np.argmax(val_preds, axis=1)\n",
    "val_preds = val_preds.astype(int)\n",
    "\n",
    "val_accuracy = accuracy_score(y_test, val_preds)\n",
    "val_precision = precision_score(y_test, val_preds)\n",
    "val_recall = recall_score(y_test, val_preds)\n",
    "val_f1_score = f1_score(y_test, val_preds)\n",
    "\n",
    "print(f\"Test accuracy: {val_accuracy:.4f}\")\n",
    "print(f\"Test precision: {val_precision:.4f}\")\n",
    "print(f\"Test recall: {val_recall:.4f}\")\n",
    "print(f\"Test F1-score: {val_f1_score:.4f}\\n\")"
   ]
  },
  {
   "cell_type": "code",
   "execution_count": 66,
   "metadata": {},
   "outputs": [],
   "source": [
    "#Konkurencyjny model można sprawdzić !TODO\n",
    "#image net"
   ]
  },
  {
   "cell_type": "markdown",
   "metadata": {},
   "source": [
    "### Image Net Pre-Trained Model"
   ]
  },
  {
   "cell_type": "markdown",
   "metadata": {},
   "source": [
    "#### VGG16"
   ]
  },
  {
   "cell_type": "code",
   "execution_count": 70,
   "metadata": {},
   "outputs": [
    {
     "name": "stdout",
     "output_type": "stream",
     "text": [
      "Epoch 1/25\n",
      "61/61 [==============================] - 73s 1s/step\n",
      "Validation accuracy: 0.8501\n",
      "Validation precision: 0.0000\n",
      "Validation recall: 0.0000\n",
      "Validation F1-score: 0.0000\n",
      "\n",
      "22/22 [==============================] - 389s 18s/step - loss: 0.6674 - accuracy: 0.8251 - val_loss: 0.5888 - val_accuracy: 0.8501\n",
      "Epoch 2/25\n"
     ]
    },
    {
     "name": "stderr",
     "output_type": "stream",
     "text": [
      "C:\\Users\\szymo\\AppData\\Roaming\\Python\\Python38\\site-packages\\sklearn\\metrics\\_classification.py:1344: UndefinedMetricWarning: Precision is ill-defined and being set to 0.0 due to no predicted samples. Use `zero_division` parameter to control this behavior.\n",
      "  _warn_prf(average, modifier, msg_start, len(result))\n"
     ]
    },
    {
     "name": "stdout",
     "output_type": "stream",
     "text": [
      "61/61 [==============================] - 75s 1s/step\n",
      "Validation accuracy: 0.8501\n",
      "Validation precision: 0.0000\n",
      "Validation recall: 0.0000\n",
      "Validation F1-score: 0.0000\n",
      "\n",
      "22/22 [==============================] - 379s 17s/step - loss: 0.6046 - accuracy: 0.8509 - val_loss: 0.4700 - val_accuracy: 0.8501\n",
      "Epoch 3/25\n"
     ]
    },
    {
     "name": "stderr",
     "output_type": "stream",
     "text": [
      "C:\\Users\\szymo\\AppData\\Roaming\\Python\\Python38\\site-packages\\sklearn\\metrics\\_classification.py:1344: UndefinedMetricWarning: Precision is ill-defined and being set to 0.0 due to no predicted samples. Use `zero_division` parameter to control this behavior.\n",
      "  _warn_prf(average, modifier, msg_start, len(result))\n"
     ]
    },
    {
     "name": "stdout",
     "output_type": "stream",
     "text": [
      "61/61 [==============================] - 74s 1s/step\n",
      "Validation accuracy: 0.8501\n",
      "Validation precision: 0.0000\n",
      "Validation recall: 0.0000\n",
      "Validation F1-score: 0.0000\n",
      "\n",
      "22/22 [==============================] - 376s 17s/step - loss: 0.5350 - accuracy: 0.8490 - val_loss: 0.4098 - val_accuracy: 0.8501\n",
      "Epoch 4/25\n"
     ]
    },
    {
     "name": "stderr",
     "output_type": "stream",
     "text": [
      "C:\\Users\\szymo\\AppData\\Roaming\\Python\\Python38\\site-packages\\sklearn\\metrics\\_classification.py:1344: UndefinedMetricWarning: Precision is ill-defined and being set to 0.0 due to no predicted samples. Use `zero_division` parameter to control this behavior.\n",
      "  _warn_prf(average, modifier, msg_start, len(result))\n"
     ]
    },
    {
     "name": "stdout",
     "output_type": "stream",
     "text": [
      "61/61 [==============================] - 76s 1s/step\n",
      "Validation accuracy: 0.8501\n",
      "Validation precision: 0.0000\n",
      "Validation recall: 0.0000\n",
      "Validation F1-score: 0.0000\n",
      "\n",
      "22/22 [==============================] - 377s 17s/step - loss: 0.4762 - accuracy: 0.8495 - val_loss: 0.4353 - val_accuracy: 0.8501\n",
      "Epoch 5/25\n"
     ]
    },
    {
     "name": "stderr",
     "output_type": "stream",
     "text": [
      "C:\\Users\\szymo\\AppData\\Roaming\\Python\\Python38\\site-packages\\sklearn\\metrics\\_classification.py:1344: UndefinedMetricWarning: Precision is ill-defined and being set to 0.0 due to no predicted samples. Use `zero_division` parameter to control this behavior.\n",
      "  _warn_prf(average, modifier, msg_start, len(result))\n"
     ]
    },
    {
     "name": "stdout",
     "output_type": "stream",
     "text": [
      "61/61 [==============================] - 79s 1s/step\n",
      "Validation accuracy: 0.8501\n",
      "Validation precision: 0.0000\n",
      "Validation recall: 0.0000\n",
      "Validation F1-score: 0.0000\n",
      "\n",
      "22/22 [==============================] - 385s 18s/step - loss: 0.4377 - accuracy: 0.8526 - val_loss: 0.5062 - val_accuracy: 0.8501\n",
      "Epoch 6/25\n"
     ]
    },
    {
     "name": "stderr",
     "output_type": "stream",
     "text": [
      "C:\\Users\\szymo\\AppData\\Roaming\\Python\\Python38\\site-packages\\sklearn\\metrics\\_classification.py:1344: UndefinedMetricWarning: Precision is ill-defined and being set to 0.0 due to no predicted samples. Use `zero_division` parameter to control this behavior.\n",
      "  _warn_prf(average, modifier, msg_start, len(result))\n"
     ]
    },
    {
     "name": "stdout",
     "output_type": "stream",
     "text": [
      "61/61 [==============================] - 79s 1s/step\n",
      "Validation accuracy: 0.8501\n",
      "Validation precision: 0.0000\n",
      "Validation recall: 0.0000\n",
      "Validation F1-score: 0.0000\n",
      "\n",
      "22/22 [==============================] - 396s 18s/step - loss: 0.4268 - accuracy: 0.8495 - val_loss: 0.5630 - val_accuracy: 0.8501\n",
      "Epoch 7/25\n"
     ]
    },
    {
     "name": "stderr",
     "output_type": "stream",
     "text": [
      "C:\\Users\\szymo\\AppData\\Roaming\\Python\\Python38\\site-packages\\sklearn\\metrics\\_classification.py:1344: UndefinedMetricWarning: Precision is ill-defined and being set to 0.0 due to no predicted samples. Use `zero_division` parameter to control this behavior.\n",
      "  _warn_prf(average, modifier, msg_start, len(result))\n"
     ]
    },
    {
     "name": "stdout",
     "output_type": "stream",
     "text": [
      "61/61 [==============================] - 81s 1s/step\n",
      "Validation accuracy: 0.8501\n",
      "Validation precision: 0.0000\n",
      "Validation recall: 0.0000\n",
      "Validation F1-score: 0.0000\n",
      "\n",
      "22/22 [==============================] - 386s 18s/step - loss: 0.4226 - accuracy: 0.8502 - val_loss: 0.5986 - val_accuracy: 0.8501\n",
      "Epoch 8/25\n"
     ]
    },
    {
     "name": "stderr",
     "output_type": "stream",
     "text": [
      "C:\\Users\\szymo\\AppData\\Roaming\\Python\\Python38\\site-packages\\sklearn\\metrics\\_classification.py:1344: UndefinedMetricWarning: Precision is ill-defined and being set to 0.0 due to no predicted samples. Use `zero_division` parameter to control this behavior.\n",
      "  _warn_prf(average, modifier, msg_start, len(result))\n"
     ]
    },
    {
     "name": "stdout",
     "output_type": "stream",
     "text": [
      "61/61 [==============================] - 75s 1s/step\n",
      "Validation accuracy: 0.8501\n",
      "Validation precision: 0.0000\n",
      "Validation recall: 0.0000\n",
      "Validation F1-score: 0.0000\n",
      "\n",
      "22/22 [==============================] - 374s 17s/step - loss: 0.4238 - accuracy: 0.8493 - val_loss: 0.6177 - val_accuracy: 0.8501\n",
      "Epoch 9/25\n"
     ]
    },
    {
     "name": "stderr",
     "output_type": "stream",
     "text": [
      "C:\\Users\\szymo\\AppData\\Roaming\\Python\\Python38\\site-packages\\sklearn\\metrics\\_classification.py:1344: UndefinedMetricWarning: Precision is ill-defined and being set to 0.0 due to no predicted samples. Use `zero_division` parameter to control this behavior.\n",
      "  _warn_prf(average, modifier, msg_start, len(result))\n"
     ]
    },
    {
     "name": "stdout",
     "output_type": "stream",
     "text": [
      "61/61 [==============================] - 75s 1s/step\n",
      "Validation accuracy: 0.8501\n",
      "Validation precision: 0.0000\n",
      "Validation recall: 0.0000\n",
      "Validation F1-score: 0.0000\n",
      "\n",
      "22/22 [==============================] - 365s 17s/step - loss: 0.4210 - accuracy: 0.8509 - val_loss: 0.6276 - val_accuracy: 0.8501\n",
      "Epoch 10/25\n"
     ]
    },
    {
     "name": "stderr",
     "output_type": "stream",
     "text": [
      "C:\\Users\\szymo\\AppData\\Roaming\\Python\\Python38\\site-packages\\sklearn\\metrics\\_classification.py:1344: UndefinedMetricWarning: Precision is ill-defined and being set to 0.0 due to no predicted samples. Use `zero_division` parameter to control this behavior.\n",
      "  _warn_prf(average, modifier, msg_start, len(result))\n"
     ]
    },
    {
     "name": "stdout",
     "output_type": "stream",
     "text": [
      "61/61 [==============================] - 77s 1s/step\n",
      "Validation accuracy: 0.8501\n",
      "Validation precision: 0.0000\n",
      "Validation recall: 0.0000\n",
      "Validation F1-score: 0.0000\n",
      "\n",
      "22/22 [==============================] - 363s 17s/step - loss: 0.4219 - accuracy: 0.8504 - val_loss: 0.6391 - val_accuracy: 0.8501\n",
      "Epoch 11/25\n"
     ]
    },
    {
     "name": "stderr",
     "output_type": "stream",
     "text": [
      "C:\\Users\\szymo\\AppData\\Roaming\\Python\\Python38\\site-packages\\sklearn\\metrics\\_classification.py:1344: UndefinedMetricWarning: Precision is ill-defined and being set to 0.0 due to no predicted samples. Use `zero_division` parameter to control this behavior.\n",
      "  _warn_prf(average, modifier, msg_start, len(result))\n"
     ]
    },
    {
     "name": "stdout",
     "output_type": "stream",
     "text": [
      "61/61 [==============================] - 81s 1s/step\n",
      "Validation accuracy: 0.8501\n",
      "Validation precision: 0.0000\n",
      "Validation recall: 0.0000\n",
      "Validation F1-score: 0.0000\n",
      "\n",
      "22/22 [==============================] - 409s 19s/step - loss: 0.4200 - accuracy: 0.8515 - val_loss: 0.6471 - val_accuracy: 0.8501\n",
      "Epoch 12/25\n"
     ]
    },
    {
     "name": "stderr",
     "output_type": "stream",
     "text": [
      "C:\\Users\\szymo\\AppData\\Roaming\\Python\\Python38\\site-packages\\sklearn\\metrics\\_classification.py:1344: UndefinedMetricWarning: Precision is ill-defined and being set to 0.0 due to no predicted samples. Use `zero_division` parameter to control this behavior.\n",
      "  _warn_prf(average, modifier, msg_start, len(result))\n"
     ]
    },
    {
     "name": "stdout",
     "output_type": "stream",
     "text": [
      "61/61 [==============================] - 82s 1s/step\n",
      "Validation accuracy: 0.8501\n",
      "Validation precision: 0.0000\n",
      "Validation recall: 0.0000\n",
      "Validation F1-score: 0.0000\n",
      "\n",
      "22/22 [==============================] - 464s 22s/step - loss: 0.4222 - accuracy: 0.8502 - val_loss: 0.6573 - val_accuracy: 0.8501\n",
      "Epoch 13/25\n"
     ]
    },
    {
     "name": "stderr",
     "output_type": "stream",
     "text": [
      "C:\\Users\\szymo\\AppData\\Roaming\\Python\\Python38\\site-packages\\sklearn\\metrics\\_classification.py:1344: UndefinedMetricWarning: Precision is ill-defined and being set to 0.0 due to no predicted samples. Use `zero_division` parameter to control this behavior.\n",
      "  _warn_prf(average, modifier, msg_start, len(result))\n"
     ]
    },
    {
     "name": "stdout",
     "output_type": "stream",
     "text": [
      "61/61 [==============================] - 75s 1s/step\n",
      "Validation accuracy: 0.8501\n",
      "Validation precision: 0.0000\n",
      "Validation recall: 0.0000\n",
      "Validation F1-score: 0.0000\n",
      "\n",
      "22/22 [==============================] - 360s 17s/step - loss: 0.4241 - accuracy: 0.8491 - val_loss: 0.6713 - val_accuracy: 0.8501\n",
      "Epoch 14/25\n"
     ]
    },
    {
     "name": "stderr",
     "output_type": "stream",
     "text": [
      "C:\\Users\\szymo\\AppData\\Roaming\\Python\\Python38\\site-packages\\sklearn\\metrics\\_classification.py:1344: UndefinedMetricWarning: Precision is ill-defined and being set to 0.0 due to no predicted samples. Use `zero_division` parameter to control this behavior.\n",
      "  _warn_prf(average, modifier, msg_start, len(result))\n"
     ]
    },
    {
     "name": "stdout",
     "output_type": "stream",
     "text": [
      "61/61 [==============================] - 75s 1s/step\n",
      "Validation accuracy: 0.8501\n",
      "Validation precision: 0.0000\n",
      "Validation recall: 0.0000\n",
      "Validation F1-score: 0.0000\n",
      "\n",
      "22/22 [==============================] - 365s 17s/step - loss: 0.4231 - accuracy: 0.8497 - val_loss: 0.6792 - val_accuracy: 0.8501\n",
      "Epoch 15/25\n"
     ]
    },
    {
     "name": "stderr",
     "output_type": "stream",
     "text": [
      "C:\\Users\\szymo\\AppData\\Roaming\\Python\\Python38\\site-packages\\sklearn\\metrics\\_classification.py:1344: UndefinedMetricWarning: Precision is ill-defined and being set to 0.0 due to no predicted samples. Use `zero_division` parameter to control this behavior.\n",
      "  _warn_prf(average, modifier, msg_start, len(result))\n"
     ]
    },
    {
     "name": "stdout",
     "output_type": "stream",
     "text": [
      "61/61 [==============================] - 76s 1s/step\n",
      "Validation accuracy: 0.8501\n",
      "Validation precision: 0.0000\n",
      "Validation recall: 0.0000\n",
      "Validation F1-score: 0.0000\n",
      "\n",
      "22/22 [==============================] - 366s 17s/step - loss: 0.4213 - accuracy: 0.8508 - val_loss: 0.7005 - val_accuracy: 0.8501\n",
      "Epoch 16/25\n"
     ]
    },
    {
     "name": "stderr",
     "output_type": "stream",
     "text": [
      "C:\\Users\\szymo\\AppData\\Roaming\\Python\\Python38\\site-packages\\sklearn\\metrics\\_classification.py:1344: UndefinedMetricWarning: Precision is ill-defined and being set to 0.0 due to no predicted samples. Use `zero_division` parameter to control this behavior.\n",
      "  _warn_prf(average, modifier, msg_start, len(result))\n"
     ]
    },
    {
     "name": "stdout",
     "output_type": "stream",
     "text": [
      "61/61 [==============================] - 74s 1s/step\n",
      "Validation accuracy: 0.8501\n",
      "Validation precision: 0.0000\n",
      "Validation recall: 0.0000\n",
      "Validation F1-score: 0.0000\n",
      "\n",
      "22/22 [==============================] - 364s 17s/step - loss: 0.4234 - accuracy: 0.8495 - val_loss: 0.7056 - val_accuracy: 0.8501\n",
      "Epoch 17/25\n"
     ]
    },
    {
     "name": "stderr",
     "output_type": "stream",
     "text": [
      "C:\\Users\\szymo\\AppData\\Roaming\\Python\\Python38\\site-packages\\sklearn\\metrics\\_classification.py:1344: UndefinedMetricWarning: Precision is ill-defined and being set to 0.0 due to no predicted samples. Use `zero_division` parameter to control this behavior.\n",
      "  _warn_prf(average, modifier, msg_start, len(result))\n"
     ]
    },
    {
     "name": "stdout",
     "output_type": "stream",
     "text": [
      "61/61 [==============================] - 75s 1s/step\n",
      "Validation accuracy: 0.8501\n",
      "Validation precision: 0.0000\n",
      "Validation recall: 0.0000\n",
      "Validation F1-score: 0.0000\n",
      "\n",
      "22/22 [==============================] - 366s 17s/step - loss: 0.4244 - accuracy: 0.8490 - val_loss: 0.7188 - val_accuracy: 0.8501\n",
      "Epoch 18/25\n"
     ]
    },
    {
     "name": "stderr",
     "output_type": "stream",
     "text": [
      "C:\\Users\\szymo\\AppData\\Roaming\\Python\\Python38\\site-packages\\sklearn\\metrics\\_classification.py:1344: UndefinedMetricWarning: Precision is ill-defined and being set to 0.0 due to no predicted samples. Use `zero_division` parameter to control this behavior.\n",
      "  _warn_prf(average, modifier, msg_start, len(result))\n"
     ]
    },
    {
     "name": "stdout",
     "output_type": "stream",
     "text": [
      "61/61 [==============================] - 75s 1s/step\n",
      "Validation accuracy: 0.8501\n",
      "Validation precision: 0.0000\n",
      "Validation recall: 0.0000\n",
      "Validation F1-score: 0.0000\n",
      "\n",
      "22/22 [==============================] - 364s 17s/step - loss: 0.4253 - accuracy: 0.8484 - val_loss: 0.7337 - val_accuracy: 0.8501\n",
      "Epoch 19/25\n"
     ]
    },
    {
     "name": "stderr",
     "output_type": "stream",
     "text": [
      "C:\\Users\\szymo\\AppData\\Roaming\\Python\\Python38\\site-packages\\sklearn\\metrics\\_classification.py:1344: UndefinedMetricWarning: Precision is ill-defined and being set to 0.0 due to no predicted samples. Use `zero_division` parameter to control this behavior.\n",
      "  _warn_prf(average, modifier, msg_start, len(result))\n"
     ]
    },
    {
     "name": "stdout",
     "output_type": "stream",
     "text": [
      "61/61 [==============================] - 77s 1s/step\n",
      "Validation accuracy: 0.8501\n",
      "Validation precision: 0.0000\n",
      "Validation recall: 0.0000\n",
      "Validation F1-score: 0.0000\n",
      "\n",
      "22/22 [==============================] - 374s 17s/step - loss: 0.4200 - accuracy: 0.8515 - val_loss: 0.7515 - val_accuracy: 0.8501\n",
      "Epoch 20/25\n"
     ]
    },
    {
     "name": "stderr",
     "output_type": "stream",
     "text": [
      "C:\\Users\\szymo\\AppData\\Roaming\\Python\\Python38\\site-packages\\sklearn\\metrics\\_classification.py:1344: UndefinedMetricWarning: Precision is ill-defined and being set to 0.0 due to no predicted samples. Use `zero_division` parameter to control this behavior.\n",
      "  _warn_prf(average, modifier, msg_start, len(result))\n"
     ]
    },
    {
     "name": "stdout",
     "output_type": "stream",
     "text": [
      "61/61 [==============================] - 75s 1s/step\n",
      "Validation accuracy: 0.8501\n",
      "Validation precision: 0.0000\n",
      "Validation recall: 0.0000\n",
      "Validation F1-score: 0.0000\n",
      "\n",
      "22/22 [==============================] - 368s 17s/step - loss: 0.4232 - accuracy: 0.8497 - val_loss: 0.7677 - val_accuracy: 0.8501\n",
      "Epoch 21/25\n"
     ]
    },
    {
     "name": "stderr",
     "output_type": "stream",
     "text": [
      "C:\\Users\\szymo\\AppData\\Roaming\\Python\\Python38\\site-packages\\sklearn\\metrics\\_classification.py:1344: UndefinedMetricWarning: Precision is ill-defined and being set to 0.0 due to no predicted samples. Use `zero_division` parameter to control this behavior.\n",
      "  _warn_prf(average, modifier, msg_start, len(result))\n"
     ]
    },
    {
     "name": "stdout",
     "output_type": "stream",
     "text": [
      "61/61 [==============================] - 74s 1s/step\n",
      "Validation accuracy: 0.8501\n",
      "Validation precision: 0.0000\n",
      "Validation recall: 0.0000\n",
      "Validation F1-score: 0.0000\n",
      "\n",
      "22/22 [==============================] - 363s 17s/step - loss: 0.4223 - accuracy: 0.8502 - val_loss: 0.7830 - val_accuracy: 0.8501\n",
      "Epoch 22/25\n"
     ]
    },
    {
     "name": "stderr",
     "output_type": "stream",
     "text": [
      "C:\\Users\\szymo\\AppData\\Roaming\\Python\\Python38\\site-packages\\sklearn\\metrics\\_classification.py:1344: UndefinedMetricWarning: Precision is ill-defined and being set to 0.0 due to no predicted samples. Use `zero_division` parameter to control this behavior.\n",
      "  _warn_prf(average, modifier, msg_start, len(result))\n"
     ]
    },
    {
     "name": "stdout",
     "output_type": "stream",
     "text": [
      "61/61 [==============================] - 74s 1s/step\n",
      "Validation accuracy: 0.8501\n",
      "Validation precision: 0.0000\n",
      "Validation recall: 0.0000\n",
      "Validation F1-score: 0.0000\n",
      "\n",
      "22/22 [==============================] - 365s 17s/step - loss: 0.4231 - accuracy: 0.8497 - val_loss: 0.7972 - val_accuracy: 0.8501\n",
      "Epoch 23/25\n"
     ]
    },
    {
     "name": "stderr",
     "output_type": "stream",
     "text": [
      "C:\\Users\\szymo\\AppData\\Roaming\\Python\\Python38\\site-packages\\sklearn\\metrics\\_classification.py:1344: UndefinedMetricWarning: Precision is ill-defined and being set to 0.0 due to no predicted samples. Use `zero_division` parameter to control this behavior.\n",
      "  _warn_prf(average, modifier, msg_start, len(result))\n"
     ]
    },
    {
     "name": "stdout",
     "output_type": "stream",
     "text": [
      "61/61 [==============================] - 75s 1s/step\n",
      "Validation accuracy: 0.8501\n",
      "Validation precision: 0.0000\n",
      "Validation recall: 0.0000\n",
      "Validation F1-score: 0.0000\n",
      "\n",
      "22/22 [==============================] - 365s 17s/step - loss: 0.4216 - accuracy: 0.8506 - val_loss: 0.8035 - val_accuracy: 0.8501\n",
      "Epoch 24/25\n"
     ]
    },
    {
     "name": "stderr",
     "output_type": "stream",
     "text": [
      "C:\\Users\\szymo\\AppData\\Roaming\\Python\\Python38\\site-packages\\sklearn\\metrics\\_classification.py:1344: UndefinedMetricWarning: Precision is ill-defined and being set to 0.0 due to no predicted samples. Use `zero_division` parameter to control this behavior.\n",
      "  _warn_prf(average, modifier, msg_start, len(result))\n"
     ]
    },
    {
     "name": "stdout",
     "output_type": "stream",
     "text": [
      "61/61 [==============================] - 75s 1s/step\n",
      "Validation accuracy: 0.8501\n",
      "Validation precision: 0.0000\n",
      "Validation recall: 0.0000\n",
      "Validation F1-score: 0.0000\n",
      "\n",
      "22/22 [==============================] - 365s 17s/step - loss: 0.4215 - accuracy: 0.8506 - val_loss: 0.8280 - val_accuracy: 0.8501\n",
      "Epoch 25/25\n"
     ]
    },
    {
     "name": "stderr",
     "output_type": "stream",
     "text": [
      "C:\\Users\\szymo\\AppData\\Roaming\\Python\\Python38\\site-packages\\sklearn\\metrics\\_classification.py:1344: UndefinedMetricWarning: Precision is ill-defined and being set to 0.0 due to no predicted samples. Use `zero_division` parameter to control this behavior.\n",
      "  _warn_prf(average, modifier, msg_start, len(result))\n"
     ]
    },
    {
     "name": "stdout",
     "output_type": "stream",
     "text": [
      "61/61 [==============================] - 74s 1s/step\n",
      "Validation accuracy: 0.8501\n",
      "Validation precision: 0.0000\n",
      "Validation recall: 0.0000\n",
      "Validation F1-score: 0.0000\n",
      "\n",
      "22/22 [==============================] - 364s 17s/step - loss: 0.4231 - accuracy: 0.8497 - val_loss: 0.8474 - val_accuracy: 0.8501\n"
     ]
    },
    {
     "name": "stderr",
     "output_type": "stream",
     "text": [
      "C:\\Users\\szymo\\AppData\\Roaming\\Python\\Python38\\site-packages\\sklearn\\metrics\\_classification.py:1344: UndefinedMetricWarning: Precision is ill-defined and being set to 0.0 due to no predicted samples. Use `zero_division` parameter to control this behavior.\n",
      "  _warn_prf(average, modifier, msg_start, len(result))\n"
     ]
    },
    {
     "data": {
      "text/plain": [
       "<keras.callbacks.History at 0x1f489b9b790>"
      ]
     },
     "execution_count": 70,
     "metadata": {},
     "output_type": "execute_result"
    }
   ],
   "source": [
    "from tensorflow.keras.applications import VGG16\n",
    "\n",
    "# Load the VGG16 model pre-trained on ImageNet, excluding the top classification layer\n",
    "base_model = VGG16(weights=None, include_top=False, input_shape=(96, 96, 3))\n",
    "\n",
    "# Freeze the convolutional layers to prevent their weights from being updated during training\n",
    "for layer in base_model.layers:\n",
    "    layer.trainable = False\n",
    "\n",
    "# Add a classification head on top of the base model\n",
    "model = Sequential()\n",
    "model.add(base_model)\n",
    "model.add(Flatten())\n",
    "model.add(Dense(128, activation='relu'))\n",
    "model.add(Dense(1, activation='sigmoid'))\n",
    "\n",
    "# Compile the model with Adam optimizer, binary cross-entropy loss function, and accuracy metric\n",
    "model.compile(optimizer='adam', loss='binary_crossentropy', metrics=['accuracy'])\n",
    "\n",
    "# Train the model using a data generator that flows batches of size 256 from the training data, for 3 epochs\n",
    "# The steps_per_epoch parameter is set to the number of training samples divided by the batch size\n",
    "# The validation data is used to evaluate the model's performance after each epoch\n",
    "model.fit(datagen.flow(rgb_batch_x_train, y_train, batch_size=256),\n",
    "                    steps_per_epoch=len(rgb_batch_x_train) // 256,\n",
    "                    epochs=25,\n",
    "                    callbacks=[metrics_callback],\n",
    "                    validation_data=(rgb_batch_x_val, y_val)\n",
    "         )"
   ]
  },
  {
   "cell_type": "code",
   "execution_count": 71,
   "metadata": {},
   "outputs": [],
   "source": [
    "#Zapisz model\n",
    "model.save('model_imagenet_gray.h5')"
   ]
  },
  {
   "cell_type": "code",
   "execution_count": null,
   "metadata": {},
   "outputs": [],
   "source": []
  },
  {
   "cell_type": "markdown",
   "metadata": {},
   "source": [
    "## Stworzenie danych tabularycznych z warstw modelu"
   ]
  },
  {
   "cell_type": "code",
   "execution_count": 8,
   "metadata": {},
   "outputs": [],
   "source": [
    "from tensorflow.keras.models import load_model\n",
    "\n",
    "#Wczytaj model\n",
    "model = load_model('model_sigmoid_gray.h5')"
   ]
  },
  {
   "cell_type": "code",
   "execution_count": 9,
   "metadata": {},
   "outputs": [
    {
     "name": "stdout",
     "output_type": "stream",
     "text": [
      "181/181 [==============================] - 8s 43ms/step\n",
      "181/181 [==============================] - 8s 42ms/step\n",
      "61/61 [==============================] - 3s 47ms/step\n",
      "61/61 [==============================] - 3s 43ms/step\n"
     ]
    }
   ],
   "source": [
    "#Wyekstrachowanie warstwy przedostatniej oraz warstwy ostatniej konwolucyjnej\n",
    "def get_features(model, data):\n",
    "    feature_extractor = keras.Model(inputs=model.inputs, outputs=model.layers[-2].output)\n",
    "    feature_extractor1 = keras.Model(inputs=model.inputs, outputs=model.layers[-4].output)\n",
    "\n",
    "    return (feature_extractor.predict(data), feature_extractor1.predict(data))\n",
    "\n",
    "x_test_features,x_test_features_conv = get_features(model, rgb_batch_x_test)\n",
    "x_val_features,x_val_features_conv = get_features(model, rgb_batch_x_val)"
   ]
  },
  {
   "cell_type": "markdown",
   "metadata": {},
   "source": [
    "## Anomaly Detection do poprawy jakości modelu"
   ]
  },
  {
   "cell_type": "code",
   "execution_count": 10,
   "metadata": {
    "scrolled": true
   },
   "outputs": [
    {
     "name": "stderr",
     "output_type": "stream",
     "text": [
      "<ipython-input-10-30b87cf6dead>:17: FutureWarning: Unlike other reduction functions (e.g. `skew`, `kurtosis`), the default behavior of `mode` typically preserves the axis it acts along. In SciPy 1.11.0, this behavior will change: the default value of `keepdims` will become False, the `axis` over which the statistic is taken will be eliminated, and the value None will no longer be accepted. Set `keepdims` to True or False to avoid this warning.\n",
      "  combined_pred = mode(np.vstack((iso_forest_pred, lof_pred, one_class_svm_pred)), axis=0)[0].flatten()\n"
     ]
    }
   ],
   "source": [
    "# Train Isolation Forest, Local Outlier Factor, One-Class SVM na Val \n",
    "#współczynnik (0.2) zależny od błędu na modelu (u nas daje 75% acc czyli 1-0.75=0.25)\n",
    "iso_forest = IsolationForest(contamination=0.25)\n",
    "lof = LocalOutlierFactor(contamination=0.25, novelty=True)\n",
    "one_class_svm = OneClassSVM(nu=0.25)\n",
    "\n",
    "iso_forest.fit(x_test_features)\n",
    "lof.fit(x_test_features)\n",
    "one_class_svm.fit(x_test_features)\n",
    "\n",
    "#Predictions dla val\n",
    "iso_forest_pred = iso_forest.predict(x_val_features)\n",
    "lof_pred = lof.predict(x_val_features)\n",
    "one_class_svm_pred = one_class_svm.predict(x_val_features)\n",
    "\n",
    "#Połączony model voting\n",
    "combined_pred = mode(np.vstack((iso_forest_pred, lof_pred, one_class_svm_pred)), axis=0)[0].flatten()\n",
    "\n",
    "models = [iso_forest_pred, lof_pred, one_class_svm_pred, combined_pred]\n",
    "model_names = ['Isolation Forest', 'Local Outlier Factor', 'One-Class SVM', 'Combined (Voting)']\n"
   ]
  },
  {
   "cell_type": "code",
   "execution_count": 11,
   "metadata": {},
   "outputs": [
    {
     "name": "stdout",
     "output_type": "stream",
     "text": [
      "61/61 [==============================] - 3s 42ms/step\n",
      "\n",
      "Isolation Forest Results:\n",
      "Comparison between incorrect model predictions and detected anomalies\n",
      "Recall (Wrong labels detected / All wrong labels): 0.1972318339100346\n",
      "Precision (Wrong labels detected / All anomalies detected): 0.12284482758620689\n",
      "Accuracy: 0.6685684647302904\n",
      "Comparison between y_val and detected anomalies\n",
      "Recall: 0.1972318339100346\n",
      "Precision: 0.12284482758620689\n",
      "Accuracy: 0.6685684647302904\n",
      "\n",
      "\n",
      "Local Outlier Factor Results:\n",
      "Comparison between incorrect model predictions and detected anomalies\n",
      "Recall (Wrong labels detected / All wrong labels): 0.29411764705882354\n",
      "Precision (Wrong labels detected / All anomalies detected): 0.1693227091633466\n",
      "Accuracy: 0.6779045643153527\n",
      "Comparison between y_val and detected anomalies\n",
      "Recall: 0.29411764705882354\n",
      "Precision: 0.1693227091633466\n",
      "Accuracy: 0.6779045643153527\n",
      "\n",
      "\n",
      "One-Class SVM Results:\n",
      "Comparison between incorrect model predictions and detected anomalies\n",
      "Recall (Wrong labels detected / All wrong labels): 0.19377162629757785\n",
      "Precision (Wrong labels detected / All anomalies detected): 0.11715481171548117\n",
      "Accuracy: 0.6602697095435685\n",
      "Comparison between y_val and detected anomalies\n",
      "Recall: 0.19377162629757785\n",
      "Precision: 0.11715481171548117\n",
      "Accuracy: 0.6602697095435685\n",
      "\n",
      "\n",
      "Combined (Voting) Results:\n",
      "Comparison between incorrect model predictions and detected anomalies\n",
      "Recall (Wrong labels detected / All wrong labels): 0.20069204152249134\n",
      "Precision (Wrong labels detected / All anomalies detected): 0.1309255079006772\n",
      "Accuracy: 0.6804979253112033\n",
      "Comparison between y_val and detected anomalies\n",
      "Recall: 0.20069204152249134\n",
      "Precision: 0.1309255079006772\n",
      "Accuracy: 0.6804979253112033\n",
      "\n"
     ]
    }
   ],
   "source": [
    "#Wyniki\n",
    "model_preds = np.round(model.predict(rgb_batch_x_val)).flatten() \n",
    "for name, pred in zip(model_names, models):\n",
    "    print(f'\\n{name} Results:')\n",
    "\n",
    "    # Convert anomalies to binary labels (1 for normal, -1 for anomaly)\n",
    "    binary_pred = (pred == -1).astype(int)\n",
    "    binary_y_test = y_val.flatten() \n",
    "\n",
    "    incorrect_pred = model_preds != binary_y_test\n",
    "    \n",
    "    print('Comparison between incorrect model predictions and detected anomalies')\n",
    "      \n",
    "    print('Recall (Wrong labels detected / All wrong labels):', recall_score(incorrect_pred,binary_pred))\n",
    "    print('Precision (Wrong labels detected / All anomalies detected):', precision_score(incorrect_pred,binary_pred))\n",
    "    print('Accuracy:',accuracy_score(incorrect_pred,binary_pred))\n",
    "    print('Comparison between y_val and detected anomalies')\n",
    "      \n",
    "    print('Recall:', recall_score(y_val,binary_pred))\n",
    "    print('Precision:', precision_score(y_val,binary_pred))\n",
    "    print('Accuracy:',accuracy_score(y_val,binary_pred))\n",
    "    print('')\n"
   ]
  },
  {
   "cell_type": "markdown",
   "metadata": {},
   "source": [
    "## Anomaly detection do rozpoznawania raka z warstwy konwolucyjnej"
   ]
  },
  {
   "cell_type": "code",
   "execution_count": 12,
   "metadata": {},
   "outputs": [],
   "source": [
    "#Otrzymanie 15% 1 (raka) jeśli utworzony zbiór miał inaczej (ja stworzyłem 50/50 rak nie rak więc musiałem to odpalić)\n",
    "#x_val_features_conv\n",
    "class_1_indices = np.where(y_val == 1)[0]\n",
    "class_0_indices = np.where(y_val == 0)[0]\n",
    "\n",
    "np.random.shuffle(class_1_indices)\n",
    "val_size_1 = int(len(class_1_indices) * 0.2)\n",
    "    \n",
    "x_val_features_conv_with_ratio = np.concatenate([x_val_features_conv[class_0_indices], x_val_features_conv[class_1_indices[:val_size_1]]])\n",
    "y_val_with_ratio = np.concatenate([y_val[class_0_indices], y_val[class_1_indices[:val_size_1]]])\n",
    "val_indices = np.arange(len(x_val_features_conv_with_ratio))\n",
    "np.random.shuffle(val_indices)\n",
    "\n",
    "x_val_features_conv_with_ratio = x_val_features_conv_with_ratio[val_indices]\n",
    "y_val_with_ratio = y_val_with_ratio[val_indices]\n",
    "#x_test_features_conv\n",
    "class_1_indices = np.where(y_test == 1)[0]\n",
    "class_0_indices = np.where(y_test == 0)[0]\n",
    "\n",
    "np.random.shuffle(class_1_indices)\n",
    "test_size_1 = int(len(class_1_indices) * 0.2)\n",
    "    \n",
    "x_test_features_conv_with_ratio = np.concatenate([x_test_features_conv[class_0_indices], x_test_features_conv[class_1_indices[:test_size_1]]])\n",
    "y_test_with_ratio = np.concatenate([y_test[class_0_indices], y_test[class_1_indices[:test_size_1]]])\n",
    "test_indices = np.arange(len(x_test_features_conv_with_ratio))\n",
    "np.random.shuffle(test_indices)\n",
    "\n",
    "x_test_features_conv_with_ratio = x_test_features_conv_with_ratio[test_indices]\n",
    "y_test_with_ratio = y_test_with_ratio[test_indices]"
   ]
  },
  {
   "cell_type": "code",
   "execution_count": 13,
   "metadata": {},
   "outputs": [
    {
     "name": "stdout",
     "output_type": "stream",
     "text": [
      "Ratio: 0.03398821218074656\n"
     ]
    }
   ],
   "source": [
    "print('Ratio:',y_test_with_ratio.sum()/len(y_test_with_ratio))"
   ]
  },
  {
   "cell_type": "code",
   "execution_count": 14,
   "metadata": {},
   "outputs": [
    {
     "name": "stderr",
     "output_type": "stream",
     "text": [
      "<ipython-input-14-21b5da9ea9af>:16: FutureWarning: Unlike other reduction functions (e.g. `skew`, `kurtosis`), the default behavior of `mode` typically preserves the axis it acts along. In SciPy 1.11.0, this behavior will change: the default value of `keepdims` will become False, the `axis` over which the statistic is taken will be eliminated, and the value None will no longer be accepted. Set `keepdims` to True or False to avoid this warning.\n",
      "  combined_pred = mode(np.vstack((iso_forest_pred, lof_pred, one_class_svm_pred)), axis=0)[0].flatten()\n"
     ]
    }
   ],
   "source": [
    "# Train Isolation Forest, Local Outlier Factor, One-Class SVM na Val \n",
    "iso_forest = IsolationForest(contamination=0.16)\n",
    "lof = LocalOutlierFactor(contamination=0.16, novelty=True)\n",
    "one_class_svm = OneClassSVM(nu=0.16)\n",
    "\n",
    "iso_forest.fit(x_test_features_conv_with_ratio)\n",
    "lof.fit(x_test_features_conv_with_ratio)\n",
    "one_class_svm.fit(x_test_features_conv_with_ratio)\n",
    "\n",
    "#Predictions dla Test\n",
    "iso_forest_pred = iso_forest.predict(x_val_features_conv_with_ratio)\n",
    "lof_pred = lof.predict(x_val_features_conv_with_ratio)\n",
    "one_class_svm_pred = one_class_svm.predict(x_val_features_conv_with_ratio)\n",
    "\n",
    "#Połączony model voting\n",
    "combined_pred = mode(np.vstack((iso_forest_pred, lof_pred, one_class_svm_pred)), axis=0)[0].flatten()"
   ]
  },
  {
   "cell_type": "code",
   "execution_count": 15,
   "metadata": {},
   "outputs": [
    {
     "name": "stdout",
     "output_type": "stream",
     "text": [
      "\n",
      "Isolation Forest Results:\n",
      "Comparison between detected anomalies and y_test\n",
      "Recall: 0.05263157894736842\n",
      "Precision: 0.011194029850746268\n",
      "Accuracy: 0.8119103773584906\n",
      "\n",
      "Local Outlier Factor Results:\n",
      "Comparison between detected anomalies and y_test\n",
      "Recall: 0.17543859649122806\n",
      "Precision: 0.03389830508474576\n",
      "Accuracy: 0.8042452830188679\n",
      "\n",
      "One-Class SVM Results:\n",
      "Comparison between detected anomalies and y_test\n",
      "Recall: 0.08771929824561403\n",
      "Precision: 0.01968503937007874\n",
      "Accuracy: 0.8225235849056604\n",
      "\n",
      "Combined (Voting) Results:\n",
      "Comparison between detected anomalies and y_test\n",
      "Recall: 0.05263157894736842\n",
      "Precision: 0.024793388429752067\n",
      "Accuracy: 0.8985849056603774\n"
     ]
    }
   ],
   "source": [
    "#Wyniki\n",
    "models = [iso_forest_pred, lof_pred, one_class_svm_pred, combined_pred]\n",
    "model_names = ['Isolation Forest', 'Local Outlier Factor', 'One-Class SVM', 'Combined (Voting)']\n",
    "for name, pred in zip(model_names, models):\n",
    "    print(f'\\n{name} Results:')\n",
    "\n",
    "    # Convert anomalies to binary labels (1 for normal, -1 for anomaly)\n",
    "    binary_pred = (pred == -1).astype(int)\n",
    "    binary_y_test = y_val_with_ratio.flatten()\n",
    "    \n",
    "    print('Comparison between detected anomalies and y_test')\n",
    "      \n",
    "    print('Recall:', recall_score(binary_y_test,binary_pred))\n",
    "    print('Precision:', precision_score(binary_y_test,binary_pred))\n",
    "    print('Accuracy:',accuracy_score(binary_y_test,binary_pred))\n",
    "    "
   ]
  },
  {
   "cell_type": "markdown",
   "metadata": {},
   "source": [
    "## Wytrenowanie Autoenkodera"
   ]
  },
  {
   "cell_type": "code",
   "execution_count": null,
   "metadata": {},
   "outputs": [],
   "source": [
    "#todo zrób lepszy autoenkoder"
   ]
  },
  {
   "cell_type": "code",
   "execution_count": 10,
   "metadata": {},
   "outputs": [],
   "source": [
    "#(rgb_batch_x_train, y_train), (rgb_batch_x_val,y_val) , (rgb_batch_x_test, y_test) = split_data(rgb_batch_x_data, y_data, 0.3, 0.1,0.3,0.8)"
   ]
  },
  {
   "cell_type": "code",
   "execution_count": 16,
   "metadata": {},
   "outputs": [
    {
     "name": "stdout",
     "output_type": "stream",
     "text": [
      "Epoch 1/10\n",
      "23/23 [==============================] - 91s 4s/step - loss: 0.0686 - val_loss: 0.0479\n",
      "Epoch 2/10\n",
      "23/23 [==============================] - 105s 5s/step - loss: 0.0427 - val_loss: 0.0385\n",
      "Epoch 3/10\n",
      "23/23 [==============================] - 91s 4s/step - loss: 0.0367 - val_loss: 0.0352\n",
      "Epoch 4/10\n",
      "23/23 [==============================] - 102s 4s/step - loss: 0.0342 - val_loss: 0.0338\n",
      "Epoch 5/10\n",
      "23/23 [==============================] - 95s 4s/step - loss: 0.0329 - val_loss: 0.0325\n",
      "Epoch 6/10\n",
      "23/23 [==============================] - 105s 5s/step - loss: 0.0319 - val_loss: 0.0316\n",
      "Epoch 7/10\n",
      "23/23 [==============================] - 90s 4s/step - loss: 0.0310 - val_loss: 0.0311\n",
      "Epoch 8/10\n",
      "23/23 [==============================] - 99s 4s/step - loss: 0.0304 - val_loss: 0.0310\n",
      "Epoch 9/10\n",
      "23/23 [==============================] - 96s 4s/step - loss: 0.0301 - val_loss: 0.0301\n",
      "Epoch 10/10\n",
      "23/23 [==============================] - 97s 4s/step - loss: 0.0297 - val_loss: 0.0297\n",
      "181/181 [==============================] - 8s 41ms/step\n"
     ]
    }
   ],
   "source": [
    "from tensorflow.keras.layers import Input, Conv2D, MaxPooling2D, UpSampling2D\n",
    "from tensorflow.keras.models import Model\n",
    "\n",
    "# Encoder\n",
    "input_img = Input(shape=(96, 96, 3))\n",
    "x = Conv2D(32, (3, 3), activation='relu', padding='same')(input_img)\n",
    "x = MaxPooling2D((2, 2), padding='same')(x)\n",
    "x = Conv2D(16, (3, 3), activation='relu', padding='same')(x)\n",
    "x = MaxPooling2D((2, 2), padding='same')(x)\n",
    "x = Conv2D(8, (3, 3), activation='relu', padding='same')(x)\n",
    "encoded = MaxPooling2D((2, 2), padding='same')(x)\n",
    "\n",
    "# Decoder\n",
    "x = Conv2D(8, (3, 3), activation='relu', padding='same')(encoded)\n",
    "x = UpSampling2D((2, 2))(x)\n",
    "x = Conv2D(16, (3, 3), activation='relu', padding='same')(x)\n",
    "x = UpSampling2D((2, 2))(x)\n",
    "x = Conv2D(32, (3, 3), activation='relu', padding='same')(x)\n",
    "x = UpSampling2D((2, 2))(x)\n",
    "decoded = Conv2D(3, (3, 3), activation='sigmoid', padding='same')(x)\n",
    "\n",
    "# Autoencoder\n",
    "autoencoder = Model(input_img, decoded)\n",
    "autoencoder.compile(optimizer='adam', loss='mean_squared_error')\n",
    "\n",
    "# Train the model\n",
    "autoencoder.fit(rgb_batch_x_train, rgb_batch_x_train,\n",
    "                epochs=10,\n",
    "                batch_size=256,\n",
    "                shuffle=True,\n",
    "                validation_data=(rgb_batch_x_val, rgb_batch_x_val))\n",
    "\n",
    "# Extract 30 features from the encoder\n",
    "encoder = Model(input_img, encoded)\n",
    "features = encoder.predict(x_test)[:,:,:,0:30]\n"
   ]
  },
  {
   "cell_type": "code",
   "execution_count": 17,
   "metadata": {},
   "outputs": [],
   "source": [
    "#zapisz\n",
    "autoencoder.save(\"autoencoder_model_gray.h5\")"
   ]
  },
  {
   "cell_type": "code",
   "execution_count": 18,
   "metadata": {},
   "outputs": [
    {
     "name": "stdout",
     "output_type": "stream",
     "text": [
      "181/181 [==============================] - 17s 93ms/step\n",
      "Average MSE: 0.029038040595120038\n"
     ]
    }
   ],
   "source": [
    "#MSE jak dobry jest nasz enkoder\n",
    "\n",
    "#Odtworzone przez enkoder obrazy dla test\n",
    "reconstructed_images = autoencoder.predict(rgb_batch_x_test)\n",
    "\n",
    "#MSE dla każdego obrazka\n",
    "mse_per_image = np.mean((rgb_batch_x_test - reconstructed_images) ** 2, axis=(1, 2, 3))\n",
    "\n",
    "#Avg MSE\n",
    "average_mse = np.mean(mse_per_image)\n",
    "\n",
    "print(\"Average MSE:\", average_mse)"
   ]
  },
  {
   "cell_type": "code",
   "execution_count": 20,
   "metadata": {},
   "outputs": [
    {
     "name": "stderr",
     "output_type": "stream",
     "text": [
      "C:\\Users\\szymo\\anaconda3\\lib\\site-packages\\skimage\\metrics\\_structural_similarity.py:107: UserWarning: Inputs have mismatched dtype.  Setting data_range based on im1.dtype.\n",
      "  ch_result = structural_similarity(im1[..., ch],\n"
     ]
    },
    {
     "name": "stdout",
     "output_type": "stream",
     "text": [
      "SSIM: 0.7547879777388946\n"
     ]
    }
   ],
   "source": [
    "from skimage.metrics import structural_similarity as compare_ssim\n",
    "\n",
    "# Assuming original_data and reconstructed_data are the original input and reconstructed output\n",
    "ssim_score = compare_ssim(rgb_batch_x_test, reconstructed_images, multichannel=True)\n",
    "\n",
    "print(\"SSIM:\", ssim_score)"
   ]
  },
  {
   "cell_type": "code",
   "execution_count": 21,
   "metadata": {},
   "outputs": [
    {
     "name": "stdout",
     "output_type": "stream",
     "text": [
      "61/61 [==============================] - 2s 32ms/step\n",
      "181/181 [==============================] - 6s 32ms/step\n"
     ]
    }
   ],
   "source": [
    "#Encode dla x_val i x_test\n",
    "x_val_encoded = encoder.predict(rgb_batch_x_val)\n",
    "x_test_encoded = encoder.predict(rgb_batch_x_test)\n",
    "\n",
    "\n",
    "x_val_encoded = x_val_encoded.reshape(x_val_encoded.shape[0], -1)\n",
    "x_test_encoded = x_test_encoded.reshape(x_test_encoded.shape[0], -1)"
   ]
  },
  {
   "cell_type": "code",
   "execution_count": 22,
   "metadata": {},
   "outputs": [
    {
     "data": {
      "text/html": [
       "<style>#sk-container-id-1 {color: black;background-color: white;}#sk-container-id-1 pre{padding: 0;}#sk-container-id-1 div.sk-toggleable {background-color: white;}#sk-container-id-1 label.sk-toggleable__label {cursor: pointer;display: block;width: 100%;margin-bottom: 0;padding: 0.3em;box-sizing: border-box;text-align: center;}#sk-container-id-1 label.sk-toggleable__label-arrow:before {content: \"▸\";float: left;margin-right: 0.25em;color: #696969;}#sk-container-id-1 label.sk-toggleable__label-arrow:hover:before {color: black;}#sk-container-id-1 div.sk-estimator:hover label.sk-toggleable__label-arrow:before {color: black;}#sk-container-id-1 div.sk-toggleable__content {max-height: 0;max-width: 0;overflow: hidden;text-align: left;background-color: #f0f8ff;}#sk-container-id-1 div.sk-toggleable__content pre {margin: 0.2em;color: black;border-radius: 0.25em;background-color: #f0f8ff;}#sk-container-id-1 input.sk-toggleable__control:checked~div.sk-toggleable__content {max-height: 200px;max-width: 100%;overflow: auto;}#sk-container-id-1 input.sk-toggleable__control:checked~label.sk-toggleable__label-arrow:before {content: \"▾\";}#sk-container-id-1 div.sk-estimator input.sk-toggleable__control:checked~label.sk-toggleable__label {background-color: #d4ebff;}#sk-container-id-1 div.sk-label input.sk-toggleable__control:checked~label.sk-toggleable__label {background-color: #d4ebff;}#sk-container-id-1 input.sk-hidden--visually {border: 0;clip: rect(1px 1px 1px 1px);clip: rect(1px, 1px, 1px, 1px);height: 1px;margin: -1px;overflow: hidden;padding: 0;position: absolute;width: 1px;}#sk-container-id-1 div.sk-estimator {font-family: monospace;background-color: #f0f8ff;border: 1px dotted black;border-radius: 0.25em;box-sizing: border-box;margin-bottom: 0.5em;}#sk-container-id-1 div.sk-estimator:hover {background-color: #d4ebff;}#sk-container-id-1 div.sk-parallel-item::after {content: \"\";width: 100%;border-bottom: 1px solid gray;flex-grow: 1;}#sk-container-id-1 div.sk-label:hover label.sk-toggleable__label {background-color: #d4ebff;}#sk-container-id-1 div.sk-serial::before {content: \"\";position: absolute;border-left: 1px solid gray;box-sizing: border-box;top: 0;bottom: 0;left: 50%;z-index: 0;}#sk-container-id-1 div.sk-serial {display: flex;flex-direction: column;align-items: center;background-color: white;padding-right: 0.2em;padding-left: 0.2em;position: relative;}#sk-container-id-1 div.sk-item {position: relative;z-index: 1;}#sk-container-id-1 div.sk-parallel {display: flex;align-items: stretch;justify-content: center;background-color: white;position: relative;}#sk-container-id-1 div.sk-item::before, #sk-container-id-1 div.sk-parallel-item::before {content: \"\";position: absolute;border-left: 1px solid gray;box-sizing: border-box;top: 0;bottom: 0;left: 50%;z-index: -1;}#sk-container-id-1 div.sk-parallel-item {display: flex;flex-direction: column;z-index: 1;position: relative;background-color: white;}#sk-container-id-1 div.sk-parallel-item:first-child::after {align-self: flex-end;width: 50%;}#sk-container-id-1 div.sk-parallel-item:last-child::after {align-self: flex-start;width: 50%;}#sk-container-id-1 div.sk-parallel-item:only-child::after {width: 0;}#sk-container-id-1 div.sk-dashed-wrapped {border: 1px dashed gray;margin: 0 0.4em 0.5em 0.4em;box-sizing: border-box;padding-bottom: 0.4em;background-color: white;}#sk-container-id-1 div.sk-label label {font-family: monospace;font-weight: bold;display: inline-block;line-height: 1.2em;}#sk-container-id-1 div.sk-label-container {text-align: center;}#sk-container-id-1 div.sk-container {/* jupyter's `normalize.less` sets `[hidden] { display: none; }` but bootstrap.min.css set `[hidden] { display: none !important; }` so we also need the `!important` here to be able to override the default hidden behavior on the sphinx rendered scikit-learn.org. See: https://github.com/scikit-learn/scikit-learn/issues/21755 */display: inline-block !important;position: relative;}#sk-container-id-1 div.sk-text-repr-fallback {display: none;}</style><div id=\"sk-container-id-1\" class=\"sk-top-container\"><div class=\"sk-text-repr-fallback\"><pre>OneClassSVM(nu=0.16)</pre><b>In a Jupyter environment, please rerun this cell to show the HTML representation or trust the notebook. <br />On GitHub, the HTML representation is unable to render, please try loading this page with nbviewer.org.</b></div><div class=\"sk-container\" hidden><div class=\"sk-item\"><div class=\"sk-estimator sk-toggleable\"><input class=\"sk-toggleable__control sk-hidden--visually\" id=\"sk-estimator-id-1\" type=\"checkbox\" checked><label for=\"sk-estimator-id-1\" class=\"sk-toggleable__label sk-toggleable__label-arrow\">OneClassSVM</label><div class=\"sk-toggleable__content\"><pre>OneClassSVM(nu=0.16)</pre></div></div></div></div></div>"
      ],
      "text/plain": [
       "OneClassSVM(nu=0.16)"
      ]
     },
     "execution_count": 22,
     "metadata": {},
     "output_type": "execute_result"
    }
   ],
   "source": [
    "#Train Isolation Forest,  Local Outlier Factor, One-Class SVM \n",
    "iso_forest_encoded = IsolationForest(contamination=0.16)\n",
    "iso_forest_encoded.fit(x_test_encoded)\n",
    "\n",
    "lof_encoded = LocalOutlierFactor(contamination=0.16, novelty=True)\n",
    "lof_encoded.fit(x_test_encoded)\n",
    "\n",
    "oc_svm_encoded = OneClassSVM(nu=0.16, kernel='rbf', gamma='scale')\n",
    "oc_svm_encoded.fit(x_test_encoded)"
   ]
  },
  {
   "cell_type": "code",
   "execution_count": 23,
   "metadata": {},
   "outputs": [
    {
     "name": "stderr",
     "output_type": "stream",
     "text": [
      "<ipython-input-23-068002c7f97c>:7: FutureWarning: Unlike other reduction functions (e.g. `skew`, `kurtosis`), the default behavior of `mode` typically preserves the axis it acts along. In SciPy 1.11.0, this behavior will change: the default value of `keepdims` will become False, the `axis` over which the statistic is taken will be eliminated, and the value None will no longer be accepted. Set `keepdims` to True or False to avoid this warning.\n",
      "  combined_pred = mode(np.vstack((iso_forest_encoded_pred, lof_encoded_pred, oc_svm_encoded_pred)), axis=0)[0].flatten()\n"
     ]
    }
   ],
   "source": [
    "#Predictions dla Test\n",
    "iso_forest_encoded_pred = iso_forest_encoded.predict(x_val_encoded)\n",
    "lof_encoded_pred = lof_encoded.predict(x_val_encoded)\n",
    "oc_svm_encoded_pred = oc_svm_encoded.predict(x_val_encoded)\n",
    "\n",
    "#Połączony model voting\n",
    "combined_pred = mode(np.vstack((iso_forest_encoded_pred, lof_encoded_pred, oc_svm_encoded_pred)), axis=0)[0].flatten()"
   ]
  },
  {
   "cell_type": "code",
   "execution_count": 24,
   "metadata": {},
   "outputs": [
    {
     "name": "stdout",
     "output_type": "stream",
     "text": [
      "\n",
      "Isolation Forest Results:\n",
      "Comparison between detected anomalies and y_test\n",
      "Recall: 0.16608996539792387\n",
      "Precision: 0.15584415584415584\n",
      "Accuracy: 0.7401452282157677\n",
      "\n",
      "Local Outlier Factor Results:\n",
      "Comparison between detected anomalies and y_test\n",
      "Recall: 0.04844290657439446\n",
      "Precision: 0.047619047619047616\n",
      "Accuracy: 0.7121369294605809\n",
      "\n",
      "One-Class SVM Results:\n",
      "Comparison between detected anomalies and y_test\n",
      "Recall: 0.12802768166089964\n",
      "Precision: 0.1167192429022082\n",
      "Accuracy: 0.7240663900414938\n",
      "\n",
      "Combined (Voting) Results:\n",
      "Comparison between detected anomalies and y_test\n",
      "Recall: 0.1245674740484429\n",
      "Precision: 0.1411764705882353\n",
      "Accuracy: 0.7551867219917012\n"
     ]
    }
   ],
   "source": [
    "#Wyniki\n",
    "models = [iso_forest_encoded_pred, lof_encoded_pred, oc_svm_encoded_pred, combined_pred]\n",
    "model_names = ['Isolation Forest', 'Local Outlier Factor', 'One-Class SVM', 'Combined (Voting)']\n",
    "for name, pred in zip(model_names, models):\n",
    "    print(f'\\n{name} Results:')\n",
    "\n",
    "    # Convert anomalies to binary labels (1 for normal, -1 for anomaly)\n",
    "    binary_pred = (pred == -1).astype(int)\n",
    "    binary_y_test = y_val.flatten()\n",
    "    \n",
    "    print('Comparison between detected anomalies and y_test')\n",
    "      \n",
    "    print('Recall:', recall_score(binary_y_test,binary_pred))\n",
    "    print('Precision:', precision_score(binary_y_test,binary_pred))\n",
    "    print('Accuracy:',accuracy_score(binary_y_test,binary_pred))"
   ]
  },
  {
   "cell_type": "code",
   "execution_count": null,
   "metadata": {},
   "outputs": [],
   "source": []
  },
  {
   "cell_type": "code",
   "execution_count": null,
   "metadata": {},
   "outputs": [],
   "source": []
  },
  {
   "cell_type": "code",
   "execution_count": null,
   "metadata": {},
   "outputs": [],
   "source": []
  },
  {
   "cell_type": "code",
   "execution_count": null,
   "metadata": {},
   "outputs": [],
   "source": []
  },
  {
   "cell_type": "code",
   "execution_count": null,
   "metadata": {},
   "outputs": [],
   "source": []
  },
  {
   "cell_type": "code",
   "execution_count": null,
   "metadata": {},
   "outputs": [],
   "source": []
  },
  {
   "cell_type": "code",
   "execution_count": null,
   "metadata": {},
   "outputs": [],
   "source": []
  },
  {
   "cell_type": "code",
   "execution_count": null,
   "metadata": {},
   "outputs": [],
   "source": []
  },
  {
   "cell_type": "code",
   "execution_count": 9,
   "metadata": {},
   "outputs": [
    {
     "name": "stdout",
     "output_type": "stream",
     "text": [
      "Epoch 1/5\n",
      "20/20 [==============================] - 49s 2s/step - loss: 31963.3320 - val_loss: 31321.9570\n",
      "Epoch 2/5\n",
      "20/20 [==============================] - 48s 2s/step - loss: 31952.0156 - val_loss: 31321.9570\n",
      "Epoch 3/5\n",
      "20/20 [==============================] - 48s 2s/step - loss: 31952.0156 - val_loss: 31321.9570\n",
      "Epoch 4/5\n",
      "20/20 [==============================] - 50s 3s/step - loss: 31952.0156 - val_loss: 31321.9570\n",
      "Epoch 5/5\n",
      "20/20 [==============================] - 50s 2s/step - loss: 31952.0156 - val_loss: 31321.9570\n"
     ]
    }
   ],
   "source": [
    "import tensorflow as tf\n",
    "from tensorflow.keras.layers import Input, Conv2D, MaxPooling2D, UpSampling2D, Flatten, Dense, Reshape\n",
    "from tensorflow.keras.models import Model\n",
    "\n",
    "input_shape = (96, 96, 3)\n",
    "\n",
    "# Encoder\n",
    "input_img = Input(shape=input_shape)\n",
    "x = Conv2D(32, (3, 3), activation='relu', padding='same')(input_img)\n",
    "x = MaxPooling2D((2, 2), padding='same')(x)\n",
    "x = Conv2D(64, (3, 3), activation='relu', padding='same')(x)\n",
    "x = MaxPooling2D((2, 2), padding='same')(x)\n",
    "x = Flatten()(x)\n",
    "encoded = Dense(30, activation='relu')(x)\n",
    "\n",
    "# Decoder\n",
    "x = Dense(24 * 24 * 64, activation='relu')(encoded)\n",
    "x = Reshape((24, 24, 64))(x)\n",
    "x = Conv2D(64, (3, 3), activation='relu', padding='same')(x)\n",
    "x = UpSampling2D((2, 2))(x)\n",
    "x = Conv2D(32, (3, 3), activation='relu', padding='same')(x)\n",
    "x = UpSampling2D((2, 2))(x)\n",
    "decoded = Conv2D(3, (3, 3), activation='sigmoid', padding='same')(x)\n",
    "\n",
    "# Autoencoder model\n",
    "autoencoder = Model(input_img, decoded)\n",
    "autoencoder.compile(optimizer='adam', loss='mse')\n",
    "\n",
    "# Train the autoencoder\n",
    "autoencoder.fit(x_train, x_train,\n",
    "                epochs=5,\n",
    "                batch_size=256,\n",
    "                shuffle=True,\n",
    "                validation_split=0.2)\n",
    "\n",
    "# Encoder model to extract features\n",
    "encoder = Model(input_img, encoded)\n"
   ]
  },
  {
   "cell_type": "code",
   "execution_count": 10,
   "metadata": {},
   "outputs": [],
   "source": [
    "#zapisz\n",
    "autoencoder.save(\"autoencoder_model.h5\")\n"
   ]
  },
  {
   "cell_type": "code",
   "execution_count": null,
   "metadata": {},
   "outputs": [],
   "source": [
    "#wczytaj\n",
    "# from tensorflow.keras.models import load_model\n",
    "\n",
    "# loaded_autoencoder = load_model(\"autoencoder_model.h5\")"
   ]
  },
  {
   "cell_type": "code",
   "execution_count": 11,
   "metadata": {},
   "outputs": [
    {
     "name": "stdout",
     "output_type": "stream",
     "text": [
      "193/193 [==============================] - 12s 63ms/step\n",
      "Average MSE: 31898.174\n"
     ]
    }
   ],
   "source": [
    "#MSE jak dobry jest nasz enkoder\n",
    "\n",
    "#Odtworzone przez enkoder obrazy dla test\n",
    "reconstructed_images = autoencoder.predict(x_test)\n",
    "\n",
    "#MSE dla każdego obrazka\n",
    "mse_per_image = np.mean((x_test - reconstructed_images) ** 2, axis=(1, 2, 3))\n",
    "\n",
    "#Avg MSE\n",
    "average_mse = np.mean(mse_per_image)\n",
    "\n",
    "print(\"Average MSE:\", average_mse)"
   ]
  },
  {
   "cell_type": "code",
   "execution_count": 12,
   "metadata": {},
   "outputs": [
    {
     "name": "stdout",
     "output_type": "stream",
     "text": [
      "64/64 [==============================] - 2s 26ms/step\n",
      "193/193 [==============================] - 5s 25ms/step\n"
     ]
    }
   ],
   "source": [
    "#Encode dla x_val i x_test\n",
    "x_val_encoded = encoder.predict(x_val)\n",
    "x_test_encoded = encoder.predict(x_test)\n",
    "\n",
    "\n",
    "x_val_encoded = x_val_encoded.reshape(x_val_encoded.shape[0], -1)\n",
    "x_test_encoded = x_test_encoded.reshape(x_test_encoded.shape[0], -1)"
   ]
  },
  {
   "cell_type": "code",
   "execution_count": 15,
   "metadata": {},
   "outputs": [
    {
     "data": {
      "text/html": [
       "<style>#sk-container-id-2 {color: black;background-color: white;}#sk-container-id-2 pre{padding: 0;}#sk-container-id-2 div.sk-toggleable {background-color: white;}#sk-container-id-2 label.sk-toggleable__label {cursor: pointer;display: block;width: 100%;margin-bottom: 0;padding: 0.3em;box-sizing: border-box;text-align: center;}#sk-container-id-2 label.sk-toggleable__label-arrow:before {content: \"▸\";float: left;margin-right: 0.25em;color: #696969;}#sk-container-id-2 label.sk-toggleable__label-arrow:hover:before {color: black;}#sk-container-id-2 div.sk-estimator:hover label.sk-toggleable__label-arrow:before {color: black;}#sk-container-id-2 div.sk-toggleable__content {max-height: 0;max-width: 0;overflow: hidden;text-align: left;background-color: #f0f8ff;}#sk-container-id-2 div.sk-toggleable__content pre {margin: 0.2em;color: black;border-radius: 0.25em;background-color: #f0f8ff;}#sk-container-id-2 input.sk-toggleable__control:checked~div.sk-toggleable__content {max-height: 200px;max-width: 100%;overflow: auto;}#sk-container-id-2 input.sk-toggleable__control:checked~label.sk-toggleable__label-arrow:before {content: \"▾\";}#sk-container-id-2 div.sk-estimator input.sk-toggleable__control:checked~label.sk-toggleable__label {background-color: #d4ebff;}#sk-container-id-2 div.sk-label input.sk-toggleable__control:checked~label.sk-toggleable__label {background-color: #d4ebff;}#sk-container-id-2 input.sk-hidden--visually {border: 0;clip: rect(1px 1px 1px 1px);clip: rect(1px, 1px, 1px, 1px);height: 1px;margin: -1px;overflow: hidden;padding: 0;position: absolute;width: 1px;}#sk-container-id-2 div.sk-estimator {font-family: monospace;background-color: #f0f8ff;border: 1px dotted black;border-radius: 0.25em;box-sizing: border-box;margin-bottom: 0.5em;}#sk-container-id-2 div.sk-estimator:hover {background-color: #d4ebff;}#sk-container-id-2 div.sk-parallel-item::after {content: \"\";width: 100%;border-bottom: 1px solid gray;flex-grow: 1;}#sk-container-id-2 div.sk-label:hover label.sk-toggleable__label {background-color: #d4ebff;}#sk-container-id-2 div.sk-serial::before {content: \"\";position: absolute;border-left: 1px solid gray;box-sizing: border-box;top: 0;bottom: 0;left: 50%;z-index: 0;}#sk-container-id-2 div.sk-serial {display: flex;flex-direction: column;align-items: center;background-color: white;padding-right: 0.2em;padding-left: 0.2em;position: relative;}#sk-container-id-2 div.sk-item {position: relative;z-index: 1;}#sk-container-id-2 div.sk-parallel {display: flex;align-items: stretch;justify-content: center;background-color: white;position: relative;}#sk-container-id-2 div.sk-item::before, #sk-container-id-2 div.sk-parallel-item::before {content: \"\";position: absolute;border-left: 1px solid gray;box-sizing: border-box;top: 0;bottom: 0;left: 50%;z-index: -1;}#sk-container-id-2 div.sk-parallel-item {display: flex;flex-direction: column;z-index: 1;position: relative;background-color: white;}#sk-container-id-2 div.sk-parallel-item:first-child::after {align-self: flex-end;width: 50%;}#sk-container-id-2 div.sk-parallel-item:last-child::after {align-self: flex-start;width: 50%;}#sk-container-id-2 div.sk-parallel-item:only-child::after {width: 0;}#sk-container-id-2 div.sk-dashed-wrapped {border: 1px dashed gray;margin: 0 0.4em 0.5em 0.4em;box-sizing: border-box;padding-bottom: 0.4em;background-color: white;}#sk-container-id-2 div.sk-label label {font-family: monospace;font-weight: bold;display: inline-block;line-height: 1.2em;}#sk-container-id-2 div.sk-label-container {text-align: center;}#sk-container-id-2 div.sk-container {/* jupyter's `normalize.less` sets `[hidden] { display: none; }` but bootstrap.min.css set `[hidden] { display: none !important; }` so we also need the `!important` here to be able to override the default hidden behavior on the sphinx rendered scikit-learn.org. See: https://github.com/scikit-learn/scikit-learn/issues/21755 */display: inline-block !important;position: relative;}#sk-container-id-2 div.sk-text-repr-fallback {display: none;}</style><div id=\"sk-container-id-2\" class=\"sk-top-container\"><div class=\"sk-text-repr-fallback\"><pre>OneClassSVM(nu=0.16)</pre><b>In a Jupyter environment, please rerun this cell to show the HTML representation or trust the notebook. <br />On GitHub, the HTML representation is unable to render, please try loading this page with nbviewer.org.</b></div><div class=\"sk-container\" hidden><div class=\"sk-item\"><div class=\"sk-estimator sk-toggleable\"><input class=\"sk-toggleable__control sk-hidden--visually\" id=\"sk-estimator-id-2\" type=\"checkbox\" checked><label for=\"sk-estimator-id-2\" class=\"sk-toggleable__label sk-toggleable__label-arrow\">OneClassSVM</label><div class=\"sk-toggleable__content\"><pre>OneClassSVM(nu=0.16)</pre></div></div></div></div></div>"
      ],
      "text/plain": [
       "OneClassSVM(nu=0.16)"
      ]
     },
     "execution_count": 15,
     "metadata": {},
     "output_type": "execute_result"
    }
   ],
   "source": [
    "#Train Isolation Forest,  Local Outlier Factor, One-Class SVM \n",
    "iso_forest_encoded = IsolationForest(contamination=0.16)\n",
    "iso_forest_encoded.fit(x_test_encoded)\n",
    "\n",
    "lof_encoded = LocalOutlierFactor(contamination=0.16, novelty=True)\n",
    "lof_encoded.fit(x_test_encoded)\n",
    "\n",
    "oc_svm_encoded = OneClassSVM(nu=0.16, kernel='rbf', gamma='scale')\n",
    "oc_svm_encoded.fit(x_test_encoded)"
   ]
  },
  {
   "cell_type": "code",
   "execution_count": 16,
   "metadata": {},
   "outputs": [
    {
     "name": "stderr",
     "output_type": "stream",
     "text": [
      "C:\\Users\\HP\\AppData\\Local\\Temp\\ipykernel_12720\\2103271786.py:7: FutureWarning: Unlike other reduction functions (e.g. `skew`, `kurtosis`), the default behavior of `mode` typically preserves the axis it acts along. In SciPy 1.11.0, this behavior will change: the default value of `keepdims` will become False, the `axis` over which the statistic is taken will be eliminated, and the value None will no longer be accepted. Set `keepdims` to True or False to avoid this warning.\n",
      "  combined_pred = mode(np.vstack((iso_forest_encoded_pred, lof_encoded_pred, oc_svm_encoded_pred)), axis=0)[0].flatten()\n"
     ]
    }
   ],
   "source": [
    "#Predictions dla Test\n",
    "iso_forest_encoded_pred = iso_forest_encoded.predict(x_val_encoded)\n",
    "lof_encoded_pred = lof_encoded.predict(x_val_encoded)\n",
    "oc_svm_encoded_pred = oc_svm_encoded.predict(x_val_encoded)\n",
    "\n",
    "#Połączony model voting\n",
    "combined_pred = mode(np.vstack((iso_forest_encoded_pred, lof_encoded_pred, oc_svm_encoded_pred)), axis=0)[0].flatten()"
   ]
  },
  {
   "cell_type": "code",
   "execution_count": 17,
   "metadata": {},
   "outputs": [
    {
     "name": "stdout",
     "output_type": "stream",
     "text": [
      "\n",
      "Isolation Forest Results:\n",
      "Comparison between detected anomalies and y_test\n",
      "Recall: 0.1100244498777506\n",
      "Precision: 0.1461038961038961\n",
      "Accuracy: 0.69384765625\n",
      "\n",
      "Local Outlier Factor Results:\n",
      "Comparison between detected anomalies and y_test\n",
      "Recall: 0.10757946210268948\n",
      "Precision: 0.12188365650969529\n",
      "Accuracy: 0.6669921875\n",
      "\n",
      "One-Class SVM Results:\n",
      "Comparison between detected anomalies and y_test\n",
      "Recall: 0.08801955990220049\n",
      "Precision: 0.11428571428571428\n",
      "Accuracy: 0.681640625\n",
      "\n",
      "Combined (Voting) Results:\n",
      "Comparison between detected anomalies and y_test\n",
      "Recall: 0.08801955990220049\n",
      "Precision: 0.12631578947368421\n",
      "Accuracy: 0.6962890625\n"
     ]
    }
   ],
   "source": [
    "#Wyniki\n",
    "models = [iso_forest_encoded_pred, lof_encoded_pred, oc_svm_encoded_pred, combined_pred]\n",
    "model_names = ['Isolation Forest', 'Local Outlier Factor', 'One-Class SVM', 'Combined (Voting)']\n",
    "for name, pred in zip(model_names, models):\n",
    "    print(f'\\n{name} Results:')\n",
    "\n",
    "    # Convert anomalies to binary labels (1 for normal, -1 for anomaly)\n",
    "    binary_pred = (pred == -1).astype(int)\n",
    "    binary_y_test = y_val.flatten()\n",
    "    \n",
    "    print('Comparison between detected anomalies and y_test')\n",
    "      \n",
    "    print('Recall:', recall_score(binary_y_test,binary_pred))\n",
    "    print('Precision:', precision_score(binary_y_test,binary_pred))\n",
    "    print('Accuracy:',accuracy_score(binary_y_test,binary_pred))"
   ]
  }
 ],
 "metadata": {
  "kernelspec": {
   "display_name": "Python 3",
   "language": "python",
   "name": "python3"
  },
  "language_info": {
   "codemirror_mode": {
    "name": "ipython",
    "version": 3
   },
   "file_extension": ".py",
   "mimetype": "text/x-python",
   "name": "python",
   "nbconvert_exporter": "python",
   "pygments_lexer": "ipython3",
   "version": "3.8.5"
  }
 },
 "nbformat": 4,
 "nbformat_minor": 5
}
