{
 "cells": [
  {
   "cell_type": "markdown",
   "metadata": {},
   "source": [
    "# Analiza wyników f-AnoGAN"
   ]
  },
  {
   "cell_type": "code",
   "execution_count": 21,
   "metadata": {
    "pycharm": {
     "is_executing": true
    }
   },
   "outputs": [],
   "source": [
    "import pandas as pd\n",
    "import numpy as np\n",
    "import matplotlib.pyplot as plt\n",
    "from sklearn.metrics import accuracy_score, recall_score, f1_score, precision_score\n",
    "from sklearn.model_selection import train_test_split"
   ]
  },
  {
   "cell_type": "markdown",
   "metadata": {},
   "source": [
    "### Model"
   ]
  },
  {
   "cell_type": "code",
   "execution_count": 162,
   "metadata": {},
   "outputs": [],
   "source": [
    "df = pd.read_csv('results_cropped_15_15/score.csv')"
   ]
  },
  {
   "cell_type": "code",
   "execution_count": 163,
   "metadata": {},
   "outputs": [
    {
     "data": {
      "text/html": [
       "<div>\n",
       "<style scoped>\n",
       "    .dataframe tbody tr th:only-of-type {\n",
       "        vertical-align: middle;\n",
       "    }\n",
       "\n",
       "    .dataframe tbody tr th {\n",
       "        vertical-align: top;\n",
       "    }\n",
       "\n",
       "    .dataframe thead th {\n",
       "        text-align: right;\n",
       "    }\n",
       "</style>\n",
       "<table border=\"1\" class=\"dataframe\">\n",
       "  <thead>\n",
       "    <tr style=\"text-align: right;\">\n",
       "      <th></th>\n",
       "      <th>label</th>\n",
       "      <th>img_distance</th>\n",
       "      <th>anomaly_score</th>\n",
       "      <th>z_distance</th>\n",
       "    </tr>\n",
       "  </thead>\n",
       "  <tbody>\n",
       "    <tr>\n",
       "      <th>0</th>\n",
       "      <td>0</td>\n",
       "      <td>0.003181</td>\n",
       "      <td>0.007183</td>\n",
       "      <td>0.002731</td>\n",
       "    </tr>\n",
       "    <tr>\n",
       "      <th>1</th>\n",
       "      <td>1</td>\n",
       "      <td>0.072454</td>\n",
       "      <td>0.096608</td>\n",
       "      <td>0.028391</td>\n",
       "    </tr>\n",
       "    <tr>\n",
       "      <th>2</th>\n",
       "      <td>0</td>\n",
       "      <td>0.045306</td>\n",
       "      <td>0.062034</td>\n",
       "      <td>0.018470</td>\n",
       "    </tr>\n",
       "    <tr>\n",
       "      <th>3</th>\n",
       "      <td>1</td>\n",
       "      <td>0.054217</td>\n",
       "      <td>0.068767</td>\n",
       "      <td>0.024214</td>\n",
       "    </tr>\n",
       "    <tr>\n",
       "      <th>4</th>\n",
       "      <td>1</td>\n",
       "      <td>0.066026</td>\n",
       "      <td>0.096980</td>\n",
       "      <td>0.023439</td>\n",
       "    </tr>\n",
       "    <tr>\n",
       "      <th>...</th>\n",
       "      <td>...</td>\n",
       "      <td>...</td>\n",
       "      <td>...</td>\n",
       "      <td>...</td>\n",
       "    </tr>\n",
       "    <tr>\n",
       "      <th>32763</th>\n",
       "      <td>1</td>\n",
       "      <td>0.058789</td>\n",
       "      <td>0.076566</td>\n",
       "      <td>0.019881</td>\n",
       "    </tr>\n",
       "    <tr>\n",
       "      <th>32764</th>\n",
       "      <td>1</td>\n",
       "      <td>0.056651</td>\n",
       "      <td>0.077496</td>\n",
       "      <td>0.020988</td>\n",
       "    </tr>\n",
       "    <tr>\n",
       "      <th>32765</th>\n",
       "      <td>1</td>\n",
       "      <td>0.097383</td>\n",
       "      <td>0.127681</td>\n",
       "      <td>0.027947</td>\n",
       "    </tr>\n",
       "    <tr>\n",
       "      <th>32766</th>\n",
       "      <td>1</td>\n",
       "      <td>0.090627</td>\n",
       "      <td>0.204682</td>\n",
       "      <td>0.037630</td>\n",
       "    </tr>\n",
       "    <tr>\n",
       "      <th>32767</th>\n",
       "      <td>0</td>\n",
       "      <td>0.093623</td>\n",
       "      <td>0.112883</td>\n",
       "      <td>0.020565</td>\n",
       "    </tr>\n",
       "  </tbody>\n",
       "</table>\n",
       "<p>32768 rows × 4 columns</p>\n",
       "</div>"
      ],
      "text/plain": [
       "       label  img_distance  anomaly_score  z_distance\n",
       "0          0      0.003181       0.007183    0.002731\n",
       "1          1      0.072454       0.096608    0.028391\n",
       "2          0      0.045306       0.062034    0.018470\n",
       "3          1      0.054217       0.068767    0.024214\n",
       "4          1      0.066026       0.096980    0.023439\n",
       "...      ...           ...            ...         ...\n",
       "32763      1      0.058789       0.076566    0.019881\n",
       "32764      1      0.056651       0.077496    0.020988\n",
       "32765      1      0.097383       0.127681    0.027947\n",
       "32766      1      0.090627       0.204682    0.037630\n",
       "32767      0      0.093623       0.112883    0.020565\n",
       "\n",
       "[32768 rows x 4 columns]"
      ]
     },
     "execution_count": 163,
     "metadata": {},
     "output_type": "execute_result"
    }
   ],
   "source": [
    "df"
   ]
  },
  {
   "cell_type": "code",
   "execution_count": 164,
   "metadata": {},
   "outputs": [],
   "source": [
    "# Opcjonalnie dla scorev.csv\n",
    "# df.columns = ['label', 'imgdist', 'anomaly_score', 'zdist']"
   ]
  },
  {
   "cell_type": "code",
   "execution_count": 165,
   "metadata": {},
   "outputs": [
    {
     "data": {
      "text/html": [
       "<div>\n",
       "<style scoped>\n",
       "    .dataframe tbody tr th:only-of-type {\n",
       "        vertical-align: middle;\n",
       "    }\n",
       "\n",
       "    .dataframe tbody tr th {\n",
       "        vertical-align: top;\n",
       "    }\n",
       "\n",
       "    .dataframe thead th {\n",
       "        text-align: right;\n",
       "    }\n",
       "</style>\n",
       "<table border=\"1\" class=\"dataframe\">\n",
       "  <thead>\n",
       "    <tr style=\"text-align: right;\">\n",
       "      <th></th>\n",
       "      <th>img_distance</th>\n",
       "      <th>anomaly_score</th>\n",
       "      <th>z_distance</th>\n",
       "    </tr>\n",
       "    <tr>\n",
       "      <th>label</th>\n",
       "      <th></th>\n",
       "      <th></th>\n",
       "      <th></th>\n",
       "    </tr>\n",
       "  </thead>\n",
       "  <tbody>\n",
       "    <tr>\n",
       "      <th>0</th>\n",
       "      <td>0.077066</td>\n",
       "      <td>0.099689</td>\n",
       "      <td>0.027754</td>\n",
       "    </tr>\n",
       "    <tr>\n",
       "      <th>1</th>\n",
       "      <td>0.079009</td>\n",
       "      <td>0.112805</td>\n",
       "      <td>0.032142</td>\n",
       "    </tr>\n",
       "  </tbody>\n",
       "</table>\n",
       "</div>"
      ],
      "text/plain": [
       "       img_distance  anomaly_score  z_distance\n",
       "label                                         \n",
       "0          0.077066       0.099689    0.027754\n",
       "1          0.079009       0.112805    0.032142"
      ]
     },
     "execution_count": 165,
     "metadata": {},
     "output_type": "execute_result"
    }
   ],
   "source": [
    "df.groupby('label').aggregate('mean')"
   ]
  },
  {
   "cell_type": "code",
   "execution_count": 166,
   "metadata": {},
   "outputs": [
    {
     "data": {
      "text/html": [
       "<div>\n",
       "<style scoped>\n",
       "    .dataframe tbody tr th:only-of-type {\n",
       "        vertical-align: middle;\n",
       "    }\n",
       "\n",
       "    .dataframe tbody tr th {\n",
       "        vertical-align: top;\n",
       "    }\n",
       "\n",
       "    .dataframe thead th {\n",
       "        text-align: right;\n",
       "    }\n",
       "</style>\n",
       "<table border=\"1\" class=\"dataframe\">\n",
       "  <thead>\n",
       "    <tr style=\"text-align: right;\">\n",
       "      <th></th>\n",
       "      <th>label</th>\n",
       "      <th>mean_anomaly_score</th>\n",
       "      <th>median_an_sc</th>\n",
       "      <th>max_an_sc</th>\n",
       "    </tr>\n",
       "  </thead>\n",
       "  <tbody>\n",
       "    <tr>\n",
       "      <th>0</th>\n",
       "      <td>0</td>\n",
       "      <td>0.099689</td>\n",
       "      <td>0.100745</td>\n",
       "      <td>0.746071</td>\n",
       "    </tr>\n",
       "    <tr>\n",
       "      <th>1</th>\n",
       "      <td>1</td>\n",
       "      <td>0.112805</td>\n",
       "      <td>0.103960</td>\n",
       "      <td>0.542333</td>\n",
       "    </tr>\n",
       "  </tbody>\n",
       "</table>\n",
       "</div>"
      ],
      "text/plain": [
       "   label  mean_anomaly_score  median_an_sc  max_an_sc\n",
       "0      0            0.099689      0.100745   0.746071\n",
       "1      1            0.112805      0.103960   0.542333"
      ]
     },
     "execution_count": 166,
     "metadata": {},
     "output_type": "execute_result"
    }
   ],
   "source": [
    "df_results = pd.DataFrame()\n",
    "df_results['label'] = [0, 1]\n",
    "df_results['mean_anomaly_score'] = df.groupby('label').aggregate('mean')['anomaly_score']\n",
    "df_results['median_an_sc'] = df.groupby('label').aggregate('median')['anomaly_score']\n",
    "df_results['max_an_sc'] = df.groupby('label').aggregate('max')['anomaly_score']\n",
    "df_results"
   ]
  },
  {
   "cell_type": "markdown",
   "metadata": {},
   "source": [
    "Na pierwszy rzut oka wartości się szczególnie nie różnią"
   ]
  },
  {
   "cell_type": "code",
   "execution_count": 167,
   "metadata": {},
   "outputs": [
    {
     "data": {
      "image/png": "[encoded data removed]",
      "text/plain": [
       "<Figure size 640x480 with 1 Axes>"
      ]
     },
     "metadata": {},
     "output_type": "display_data"
    }
   ],
   "source": [
    "plt.hist(df[df['label'] == 0]['anomaly_score'], bins=50, range=(0, 0.5), label='Normal', alpha=0.8)\n",
    "plt.hist(df[df['label'] == 1]['anomaly_score'], bins=50, range=(0, 0.5), label='Cancer', alpha=0.8)\n",
    "plt.legend()\n",
    "plt.show()"
   ]
  },
  {
   "cell_type": "markdown",
   "metadata": {},
   "source": [
    "Histogram także nie wygląda najlepiej. Co prawda normalne dane często uzyskują anomaly score bliski zeru, to jednak histogramy się mocno pokrywają."
   ]
  },
  {
   "cell_type": "code",
   "execution_count": 168,
   "metadata": {},
   "outputs": [],
   "source": [
    "# Wynikową ramkę dzielimy na zbiór treningowy (do wytrenowania naszego 'klasyfikatora') i na zbiór testowy\n",
    "X_train, X_test, y_train, y_test = train_test_split(df['anomaly_score'], df['label'], test_size=0.4, random_state=42)"
   ]
  },
  {
   "cell_type": "code",
   "execution_count": 169,
   "metadata": {},
   "outputs": [],
   "source": [
    "class Classificator_Demo:\n",
    "    def __init__(self, cut_off):\n",
    "        self.cut_off = cut_off\n",
    "        \n",
    "    def predict(self, X):\n",
    "        predictions = (X > self.cut_off)\n",
    "        return predictions"
   ]
  },
  {
   "cell_type": "code",
   "execution_count": 176,
   "metadata": {},
   "outputs": [
    {
     "data": {
      "image/png": "[encoded data removed]",
      "text/plain": [
       "<Figure size 640x480 with 1 Axes>"
      ]
     },
     "metadata": {},
     "output_type": "display_data"
    }
   ],
   "source": [
    "# Znajdźmy odpowiedni punkt odcięcia dla anomaly score\n",
    "points_c = []\n",
    "accuracy_c = []\n",
    "for i in range(80):\n",
    "    point = i / 400\n",
    "    classifier = Classificator_Demo(cut_off=point)\n",
    "    points_c.append(point)\n",
    "    y_pred = classifier.predict(X_test)\n",
    "#     accuracy_c.append(accuracy_score(y_test, y_pred))\n",
    "    accuracy_k.append(metrics.roc_auc_score(y_test, y_pred))\n",
    "plt.plot(points_c, accuracy_c, label='accuracy')\n",
    "plt.xlabel('cut-off point')\n",
    "plt.legend()\n",
    "plt.show()"
   ]
  },
  {
   "cell_type": "code",
   "execution_count": 178,
   "metadata": {},
   "outputs": [
    {
     "name": "stdout",
     "output_type": "stream",
     "text": [
      "optimal cut-off: 0.055\n"
     ]
    }
   ],
   "source": [
    "print(f'optimal cut-off: {points_c[accuracy_c.index(max(accuracy_c))]}')"
   ]
  },
  {
   "cell_type": "markdown",
   "metadata": {},
   "source": [
    "Jednakże punkt odcięcia zależy od tego jak został wytrenowany generator, więc punkt odcięcia powinien zależec od wyników anomaly score ze zbioru treningowego. Weźmy średnie anomaly score dla danych zdrowych i chorych, dodajmy je i przemnóżmy przez pewną stałą k. Tej stałej będziemy szukać."
   ]
  },
  {
   "cell_type": "code",
   "execution_count": 300,
   "metadata": {},
   "outputs": [
    {
     "data": {
      "image/png": "[encoded data removed]",
      "text/plain": [
       "<Figure size 640x480 with 1 Axes>"
      ]
     },
     "metadata": {},
     "output_type": "display_data"
    }
   ],
   "source": [
    "points_k = []\n",
    "accuracy_k = []\n",
    "for i in range(120):\n",
    "    df0 = pd.DataFrame()\n",
    "    df0['label'] = y_train\n",
    "    df0['values'] = X_train\n",
    "    df_agg0 = df0.groupby('label').aggregate('mean')\n",
    "    k = i / 80\n",
    "    point = k * (df_agg0.loc[0, 'values'] + df_agg0.loc[1, 'values'])\n",
    "    classifier = Classificator_Demo(cut_off=point)\n",
    "    points_k.append(k)\n",
    "    y_pred = classifier.predict(X_test)\n",
    "    accuracy_k.append(accuracy_score(y_test, y_pred))\n",
    "plt.plot(points_k, accuracy_k, label='accuracy')\n",
    "plt.xlabel('k constant')\n",
    "plt.legend()\n",
    "plt.show()"
   ]
  },
  {
   "cell_type": "code",
   "execution_count": 301,
   "metadata": {},
   "outputs": [
    {
     "name": "stdout",
     "output_type": "stream",
     "text": [
      "optimal k: 0.25\n",
      "cut off point value: 0.05315925382723023\n"
     ]
    }
   ],
   "source": [
    "print(f'optimal k: {points_k[accuracy_k.index(max(accuracy_k))]}')\n",
    "print(f\"cut off point value: {(df_agg0.loc[0, 'values'] + df_agg0.loc[1, 'values']) * points_k[accuracy_k.index(max(accuracy_k))]}\")"
   ]
  },
  {
   "cell_type": "code",
   "execution_count": 223,
   "metadata": {},
   "outputs": [
    {
     "name": "stdout",
     "output_type": "stream",
     "text": [
      "optimal k: 0.2625\n",
      "optimal k: 0.25\n",
      "optimal k: 0.225\n",
      "optimal k: 0.2375\n",
      "optimal k: 0.2125\n",
      "mean optimal k: 0.23749999999999996\n"
     ]
    }
   ],
   "source": [
    "# Sprawdźmy czy takie same wartości otrzymują inne generatory\n",
    "df1 = pd.read_csv('results_default_30_20/score.csv')\n",
    "df2 = pd.read_csv('results_cropped_15_15/score.csv')\n",
    "df3 = pd.read_csv('results_cropped_7_10/score.csv')\n",
    "df4 = pd.read_csv('results_validation_50_20/scorev.csv')\n",
    "df5 = pd.read_csv('results_stain_net/score.csv')\n",
    "df4.columns = ['label', 'imgdist', 'anomaly_score', 'zdist']\n",
    "data_frames = [df1, df2, df3, df4, df5]\n",
    "optimal_constants = []\n",
    "for df_test in data_frames:\n",
    "    X_train_k, X_test_k, y_train_k, y_test_k = train_test_split(df_test['anomaly_score'], df_test['label'], test_size=0.4, random_state=42)\n",
    "    points_k = []\n",
    "    accuracy_k = []\n",
    "    for i in range(120):\n",
    "        df_k = pd.DataFrame()\n",
    "        df_k['label'] = y_train_k\n",
    "        df_k['values'] = X_train_k\n",
    "        df_agg_k = df_k.groupby('label').aggregate('mean')\n",
    "        k = i / 80\n",
    "        point = k * (df_agg_k.loc[0, 'values'] + df_agg_k.loc[1, 'values'])\n",
    "        classifier = Classificator_Demo(cut_off=point)\n",
    "        points_k.append(k)\n",
    "        y_pred_k = classifier.predict(X_test_k)\n",
    "        accuracy_k.append(accuracy_score(y_test_k, y_pred_k))\n",
    "    optimal_k = points_k[accuracy_k.index(max(accuracy_k))]\n",
    "    optimal_constants.append(optimal_k)\n",
    "    print(f'optimal k: {optimal_k}')\n",
    "print(f'mean optimal k: {np.mean(optimal_constants)}')"
   ]
  },
  {
   "cell_type": "code",
   "execution_count": 282,
   "metadata": {},
   "outputs": [],
   "source": [
    "# Zatem nasz ostateczny klasyfikator:\n",
    "class Classificator:\n",
    "    def __init__(self, cut_off=0, k=0.2375):\n",
    "        self.cut_off = cut_off\n",
    "        self.k = k\n",
    "        '''\n",
    "        If cut_off specified, don't use fit method (it overwrites cut_off value)\n",
    "        '''\n",
    "        \n",
    "    def fit(self, X, y):\n",
    "        '''\n",
    "        Automatic calculation of the cut-off point\n",
    "        '''\n",
    "        df = pd.DataFrame()\n",
    "        df['label'] = y\n",
    "        df['values'] = X\n",
    "        df_agg = df.groupby('label').aggregate('mean')\n",
    "        self.cut_off = (df_agg.loc[0, 'values'] + df_agg.loc[1, 'values']) * self.k\n",
    "        \n",
    "    def predict(self, X):\n",
    "        predictions = (X > self.cut_off)\n",
    "        return predictions"
   ]
  },
  {
   "cell_type": "code",
   "execution_count": 283,
   "metadata": {},
   "outputs": [],
   "source": [
    "custom = Classificator()"
   ]
  },
  {
   "cell_type": "code",
   "execution_count": 284,
   "metadata": {},
   "outputs": [],
   "source": [
    "custom.fit(X_train, y_train)"
   ]
  },
  {
   "cell_type": "code",
   "execution_count": 285,
   "metadata": {},
   "outputs": [],
   "source": [
    "y_pred = custom.predict(X_test)"
   ]
  },
  {
   "cell_type": "code",
   "execution_count": 286,
   "metadata": {},
   "outputs": [
    {
     "name": "stdout",
     "output_type": "stream",
     "text": [
      "accuracy: 0.6133658834299665\n",
      "precision: 0.5694394538268056\n",
      "recall: 0.9584215300876928\n",
      "f1 score: 0.7144145159472558\n"
     ]
    }
   ],
   "source": [
    "print(f'accuracy: {accuracy_score(y_test, y_pred)}')\n",
    "print(f'precision: {precision_score(y_test, y_pred)}')\n",
    "print(f'recall: {recall_score(y_test, y_pred)}')\n",
    "print(f'f1 score: {f1_score(y_test, y_pred)}')"
   ]
  },
  {
   "cell_type": "code",
   "execution_count": 291,
   "metadata": {},
   "outputs": [],
   "source": [
    "# Zbadajmy wyniki dla wszystkich generatorów\n",
    "accuracy = []\n",
    "precision = []\n",
    "recall = []\n",
    "f1 = []\n",
    "for df_test in data_frames:\n",
    "    X_train_a, X_test_a, y_train_a, y_test_a = train_test_split(df_test['anomaly_score'], df_test['label'], test_size=0.4, random_state=42)\n",
    "    model = Classificator()\n",
    "    model.fit(X_train_a, y_train_a)\n",
    "    y_pred = model.predict(X_test_a)\n",
    "    accuracy.append(accuracy_score(y_test_a, y_pred))\n",
    "    precision.append(precision_score(y_test_a, y_pred))\n",
    "    recall.append(recall_score(y_test_a, y_pred))\n",
    "    f1.append(f1_score(y_test_a, y_pred))"
   ]
  },
  {
   "cell_type": "code",
   "execution_count": 292,
   "metadata": {},
   "outputs": [
    {
     "data": {
      "text/html": [
       "<div>\n",
       "<style scoped>\n",
       "    .dataframe tbody tr th:only-of-type {\n",
       "        vertical-align: middle;\n",
       "    }\n",
       "\n",
       "    .dataframe tbody tr th {\n",
       "        vertical-align: top;\n",
       "    }\n",
       "\n",
       "    .dataframe thead th {\n",
       "        text-align: right;\n",
       "    }\n",
       "</style>\n",
       "<table border=\"1\" class=\"dataframe\">\n",
       "  <thead>\n",
       "    <tr style=\"text-align: right;\">\n",
       "      <th></th>\n",
       "      <th>Accuracy</th>\n",
       "      <th>Precision</th>\n",
       "      <th>Recall</th>\n",
       "      <th>f1</th>\n",
       "    </tr>\n",
       "    <tr>\n",
       "      <th>Network</th>\n",
       "      <th></th>\n",
       "      <th></th>\n",
       "      <th></th>\n",
       "      <th></th>\n",
       "    </tr>\n",
       "  </thead>\n",
       "  <tbody>\n",
       "    <tr>\n",
       "      <th>Default (30)</th>\n",
       "      <td>0.607339</td>\n",
       "      <td>0.563206</td>\n",
       "      <td>0.988207</td>\n",
       "      <td>0.717493</td>\n",
       "    </tr>\n",
       "    <tr>\n",
       "      <th>Cropped (15)</th>\n",
       "      <td>0.613366</td>\n",
       "      <td>0.569439</td>\n",
       "      <td>0.958422</td>\n",
       "      <td>0.714415</td>\n",
       "    </tr>\n",
       "    <tr>\n",
       "      <th>Cropped (7)</th>\n",
       "      <td>0.615426</td>\n",
       "      <td>0.572885</td>\n",
       "      <td>0.934684</td>\n",
       "      <td>0.710371</td>\n",
       "    </tr>\n",
       "    <tr>\n",
       "      <th>Validation (50)</th>\n",
       "      <td>0.594797</td>\n",
       "      <td>0.557312</td>\n",
       "      <td>0.959039</td>\n",
       "      <td>0.704961</td>\n",
       "    </tr>\n",
       "    <tr>\n",
       "      <th>StainNet (10)</th>\n",
       "      <td>0.630836</td>\n",
       "      <td>0.583829</td>\n",
       "      <td>0.934533</td>\n",
       "      <td>0.718679</td>\n",
       "    </tr>\n",
       "  </tbody>\n",
       "</table>\n",
       "</div>"
      ],
      "text/plain": [
       "                 Accuracy  Precision    Recall        f1\n",
       "Network                                                 \n",
       "Default (30)     0.607339   0.563206  0.988207  0.717493\n",
       "Cropped (15)     0.613366   0.569439  0.958422  0.714415\n",
       "Cropped (7)      0.615426   0.572885  0.934684  0.710371\n",
       "Validation (50)  0.594797   0.557312  0.959039  0.704961\n",
       "StainNet (10)    0.630836   0.583829  0.934533  0.718679"
      ]
     },
     "execution_count": 292,
     "metadata": {},
     "output_type": "execute_result"
    }
   ],
   "source": [
    "df_metrics = pd.DataFrame()\n",
    "df_metrics['Network'] = ['Default (30)', 'Cropped (15)', 'Cropped (7)', 'Validation (50)', 'StainNet (10)']\n",
    "df_metrics['Accuracy'] = accuracy\n",
    "df_metrics['Precision'] = precision\n",
    "df_metrics['Recall'] = recall\n",
    "df_metrics['f1'] = f1\n",
    "df_metrics.set_index('Network', inplace=True)\n",
    "df_metrics"
   ]
  },
  {
   "cell_type": "markdown",
   "metadata": {},
   "source": [
    "Sieć wytrenowana na danych znormalizowanych ma najlepsze wyniki, choć recall ma stosunkowo niski. Sprawdźmy co jeśli użyjemy znalezionego wcześniej optymalnego k dla sieci stain-net:"
   ]
  },
  {
   "cell_type": "code",
   "execution_count": 290,
   "metadata": {},
   "outputs": [
    {
     "name": "stdout",
     "output_type": "stream",
     "text": [
      "accuracy: 0.6315227342081172\n",
      "precision: 0.5825161887141536\n",
      "recall: 0.9520713637738131\n",
      "f1 score: 0.7227961432506886\n"
     ]
    }
   ],
   "source": [
    "X_train_s, X_test_s, y_train_s, y_test_s = train_test_split(df5['anomaly_score'], df5['label'], test_size=0.4, random_state=42)\n",
    "model_s = Classificator(k = 0.2125)\n",
    "model_s.fit(X_train_s, y_train_s)\n",
    "y_pred_s = model_s.predict(X_test_s)\n",
    "print(f'accuracy: {accuracy_score(y_test_s, y_pred_s)}')\n",
    "print(f'precision: {precision_score(y_test_s, y_pred_s)}')\n",
    "print(f'recall: {recall_score(y_test_s, y_pred_s)}')\n",
    "print(f'f1 score: {f1_score(y_test_s, y_pred_s)}')"
   ]
  },
  {
   "cell_type": "markdown",
   "metadata": {},
   "source": [
    "Uzyskaliśmy lepsze accuracy, recall i f1 score. Zerknijmy jeszcze na krzywą roc:"
   ]
  },
  {
   "cell_type": "code",
   "execution_count": 299,
   "metadata": {},
   "outputs": [
    {
     "data": {
      "image/png": "[encoded data removed]",
      "text/plain": [
       "<Figure size 640x480 with 1 Axes>"
      ]
     },
     "metadata": {},
     "output_type": "display_data"
    }
   ],
   "source": [
    "from sklearn import metrics\n",
    "fpr, tpr, _ = metrics.roc_curve(y_test_s,  y_pred_s)\n",
    "auc = metrics.roc_auc_score(y_test_s, y_pred_s)\n",
    "plt.plot(fpr,tpr, label=f'AUC = {auc:.3f}')\n",
    "plt.ylabel('True Positive Rate')\n",
    "plt.xlabel('False Positive Rate')\n",
    "plt.title('XG boost ROC curve')\n",
    "plt.grid(linestyle='--', linewidth=0.5, color='gray')\n",
    "plt.legend()\n",
    "plt.show()"
   ]
  },
  {
   "cell_type": "markdown",
   "metadata": {},
   "source": [
    "### Funkcja straty"
   ]
  },
  {
   "cell_type": "code",
   "execution_count": 65,
   "metadata": {},
   "outputs": [],
   "source": [
    "df_loss = pd.read_csv('results_cropped_15_15/train_wgangp_log.csv')"
   ]
  },
  {
   "cell_type": "code",
   "execution_count": 66,
   "metadata": {},
   "outputs": [
    {
     "data": {
      "text/html": [
       "<div>\n",
       "<style scoped>\n",
       "    .dataframe tbody tr th:only-of-type {\n",
       "        vertical-align: middle;\n",
       "    }\n",
       "\n",
       "    .dataframe tbody tr th {\n",
       "        vertical-align: top;\n",
       "    }\n",
       "\n",
       "    .dataframe thead th {\n",
       "        text-align: right;\n",
       "    }\n",
       "</style>\n",
       "<table border=\"1\" class=\"dataframe\">\n",
       "  <thead>\n",
       "    <tr style=\"text-align: right;\">\n",
       "      <th></th>\n",
       "      <th>Epoch</th>\n",
       "      <th>Batch</th>\n",
       "      <th>D loss</th>\n",
       "      <th>G loss</th>\n",
       "    </tr>\n",
       "  </thead>\n",
       "  <tbody>\n",
       "    <tr>\n",
       "      <th>0</th>\n",
       "      <td>0</td>\n",
       "      <td>0</td>\n",
       "      <td>9.149370</td>\n",
       "      <td>0.018484</td>\n",
       "    </tr>\n",
       "    <tr>\n",
       "      <th>1</th>\n",
       "      <td>0</td>\n",
       "      <td>5</td>\n",
       "      <td>8.950006</td>\n",
       "      <td>0.019874</td>\n",
       "    </tr>\n",
       "    <tr>\n",
       "      <th>2</th>\n",
       "      <td>0</td>\n",
       "      <td>10</td>\n",
       "      <td>8.702471</td>\n",
       "      <td>0.017430</td>\n",
       "    </tr>\n",
       "    <tr>\n",
       "      <th>3</th>\n",
       "      <td>0</td>\n",
       "      <td>15</td>\n",
       "      <td>8.272492</td>\n",
       "      <td>0.015588</td>\n",
       "    </tr>\n",
       "    <tr>\n",
       "      <th>4</th>\n",
       "      <td>0</td>\n",
       "      <td>20</td>\n",
       "      <td>7.664326</td>\n",
       "      <td>0.012816</td>\n",
       "    </tr>\n",
       "    <tr>\n",
       "      <th>...</th>\n",
       "      <td>...</td>\n",
       "      <td>...</td>\n",
       "      <td>...</td>\n",
       "      <td>...</td>\n",
       "    </tr>\n",
       "    <tr>\n",
       "      <th>3070</th>\n",
       "      <td>14</td>\n",
       "      <td>1000</td>\n",
       "      <td>0.378563</td>\n",
       "      <td>4.259316</td>\n",
       "    </tr>\n",
       "    <tr>\n",
       "      <th>3071</th>\n",
       "      <td>14</td>\n",
       "      <td>1005</td>\n",
       "      <td>1.114080</td>\n",
       "      <td>2.966803</td>\n",
       "    </tr>\n",
       "    <tr>\n",
       "      <th>3072</th>\n",
       "      <td>14</td>\n",
       "      <td>1010</td>\n",
       "      <td>0.054179</td>\n",
       "      <td>4.037617</td>\n",
       "    </tr>\n",
       "    <tr>\n",
       "      <th>3073</th>\n",
       "      <td>14</td>\n",
       "      <td>1015</td>\n",
       "      <td>0.528216</td>\n",
       "      <td>3.028854</td>\n",
       "    </tr>\n",
       "    <tr>\n",
       "      <th>3074</th>\n",
       "      <td>14</td>\n",
       "      <td>1020</td>\n",
       "      <td>-1.368008</td>\n",
       "      <td>4.331133</td>\n",
       "    </tr>\n",
       "  </tbody>\n",
       "</table>\n",
       "<p>3075 rows × 4 columns</p>\n",
       "</div>"
      ],
      "text/plain": [
       "      Epoch  Batch    D loss    G loss\n",
       "0         0      0  9.149370  0.018484\n",
       "1         0      5  8.950006  0.019874\n",
       "2         0     10  8.702471  0.017430\n",
       "3         0     15  8.272492  0.015588\n",
       "4         0     20  7.664326  0.012816\n",
       "...     ...    ...       ...       ...\n",
       "3070     14   1000  0.378563  4.259316\n",
       "3071     14   1005  1.114080  2.966803\n",
       "3072     14   1010  0.054179  4.037617\n",
       "3073     14   1015  0.528216  3.028854\n",
       "3074     14   1020 -1.368008  4.331133\n",
       "\n",
       "[3075 rows x 4 columns]"
      ]
     },
     "execution_count": 66,
     "metadata": {},
     "output_type": "execute_result"
    }
   ],
   "source": [
    "df_loss"
   ]
  },
  {
   "cell_type": "code",
   "execution_count": 67,
   "metadata": {},
   "outputs": [
    {
     "data": {
      "text/html": [
       "<div>\n",
       "<style scoped>\n",
       "    .dataframe tbody tr th:only-of-type {\n",
       "        vertical-align: middle;\n",
       "    }\n",
       "\n",
       "    .dataframe tbody tr th {\n",
       "        vertical-align: top;\n",
       "    }\n",
       "\n",
       "    .dataframe thead th {\n",
       "        text-align: right;\n",
       "    }\n",
       "</style>\n",
       "<table border=\"1\" class=\"dataframe\">\n",
       "  <thead>\n",
       "    <tr style=\"text-align: right;\">\n",
       "      <th></th>\n",
       "      <th>Batch</th>\n",
       "      <th>D loss</th>\n",
       "      <th>G loss</th>\n",
       "    </tr>\n",
       "    <tr>\n",
       "      <th>Epoch</th>\n",
       "      <th></th>\n",
       "      <th></th>\n",
       "      <th></th>\n",
       "    </tr>\n",
       "  </thead>\n",
       "  <tbody>\n",
       "    <tr>\n",
       "      <th>0</th>\n",
       "      <td>510.0</td>\n",
       "      <td>-0.615983</td>\n",
       "      <td>-1.992022</td>\n",
       "    </tr>\n",
       "    <tr>\n",
       "      <th>1</th>\n",
       "      <td>510.0</td>\n",
       "      <td>-0.157944</td>\n",
       "      <td>-2.404661</td>\n",
       "    </tr>\n",
       "    <tr>\n",
       "      <th>2</th>\n",
       "      <td>510.0</td>\n",
       "      <td>-0.148436</td>\n",
       "      <td>-0.382026</td>\n",
       "    </tr>\n",
       "    <tr>\n",
       "      <th>3</th>\n",
       "      <td>510.0</td>\n",
       "      <td>-0.276617</td>\n",
       "      <td>0.844795</td>\n",
       "    </tr>\n",
       "    <tr>\n",
       "      <th>4</th>\n",
       "      <td>510.0</td>\n",
       "      <td>-0.487514</td>\n",
       "      <td>0.076156</td>\n",
       "    </tr>\n",
       "    <tr>\n",
       "      <th>5</th>\n",
       "      <td>510.0</td>\n",
       "      <td>-0.566847</td>\n",
       "      <td>1.267874</td>\n",
       "    </tr>\n",
       "    <tr>\n",
       "      <th>6</th>\n",
       "      <td>510.0</td>\n",
       "      <td>-0.955354</td>\n",
       "      <td>1.519786</td>\n",
       "    </tr>\n",
       "    <tr>\n",
       "      <th>7</th>\n",
       "      <td>510.0</td>\n",
       "      <td>-0.899929</td>\n",
       "      <td>0.648676</td>\n",
       "    </tr>\n",
       "    <tr>\n",
       "      <th>8</th>\n",
       "      <td>510.0</td>\n",
       "      <td>-0.402948</td>\n",
       "      <td>0.992795</td>\n",
       "    </tr>\n",
       "    <tr>\n",
       "      <th>9</th>\n",
       "      <td>510.0</td>\n",
       "      <td>-0.288314</td>\n",
       "      <td>2.291020</td>\n",
       "    </tr>\n",
       "    <tr>\n",
       "      <th>10</th>\n",
       "      <td>510.0</td>\n",
       "      <td>-0.283919</td>\n",
       "      <td>3.200853</td>\n",
       "    </tr>\n",
       "    <tr>\n",
       "      <th>11</th>\n",
       "      <td>510.0</td>\n",
       "      <td>-0.344779</td>\n",
       "      <td>4.112968</td>\n",
       "    </tr>\n",
       "    <tr>\n",
       "      <th>12</th>\n",
       "      <td>510.0</td>\n",
       "      <td>-0.495109</td>\n",
       "      <td>4.364151</td>\n",
       "    </tr>\n",
       "    <tr>\n",
       "      <th>13</th>\n",
       "      <td>510.0</td>\n",
       "      <td>-0.566984</td>\n",
       "      <td>4.477417</td>\n",
       "    </tr>\n",
       "    <tr>\n",
       "      <th>14</th>\n",
       "      <td>510.0</td>\n",
       "      <td>-0.487104</td>\n",
       "      <td>4.325925</td>\n",
       "    </tr>\n",
       "  </tbody>\n",
       "</table>\n",
       "</div>"
      ],
      "text/plain": [
       "       Batch    D loss    G loss\n",
       "Epoch                           \n",
       "0      510.0 -0.615983 -1.992022\n",
       "1      510.0 -0.157944 -2.404661\n",
       "2      510.0 -0.148436 -0.382026\n",
       "3      510.0 -0.276617  0.844795\n",
       "4      510.0 -0.487514  0.076156\n",
       "5      510.0 -0.566847  1.267874\n",
       "6      510.0 -0.955354  1.519786\n",
       "7      510.0 -0.899929  0.648676\n",
       "8      510.0 -0.402948  0.992795\n",
       "9      510.0 -0.288314  2.291020\n",
       "10     510.0 -0.283919  3.200853\n",
       "11     510.0 -0.344779  4.112968\n",
       "12     510.0 -0.495109  4.364151\n",
       "13     510.0 -0.566984  4.477417\n",
       "14     510.0 -0.487104  4.325925"
      ]
     },
     "execution_count": 67,
     "metadata": {},
     "output_type": "execute_result"
    }
   ],
   "source": [
    "loss_agg = df_loss.groupby('Epoch').aggregate('mean')\n",
    "loss_agg"
   ]
  },
  {
   "cell_type": "code",
   "execution_count": 68,
   "metadata": {},
   "outputs": [
    {
     "data": {
      "text/plain": [
       "1        0.096608\n",
       "3        0.068767\n",
       "4        0.096980\n",
       "6        0.089021\n",
       "7        0.108155\n",
       "           ...   \n",
       "32762    0.133988\n",
       "32763    0.076566\n",
       "32764    0.077496\n",
       "32765    0.127681\n",
       "32766    0.204682\n",
       "Name: anomaly_score, Length: 16377, dtype: float64"
      ]
     },
     "execution_count": 68,
     "metadata": {},
     "output_type": "execute_result"
    }
   ],
   "source": [
    "df[df['label']==1].loc[:,'anomaly_score']"
   ]
  },
  {
   "cell_type": "code",
   "execution_count": 69,
   "metadata": {},
   "outputs": [
    {
     "data": {
      "text/plain": [
       "Epoch\n",
       "0    -0.615983\n",
       "1    -0.157944\n",
       "2    -0.148436\n",
       "3    -0.276617\n",
       "4    -0.487514\n",
       "5    -0.566847\n",
       "6    -0.955354\n",
       "7    -0.899929\n",
       "8    -0.402948\n",
       "9    -0.288314\n",
       "10   -0.283919\n",
       "11   -0.344779\n",
       "12   -0.495109\n",
       "13   -0.566984\n",
       "14   -0.487104\n",
       "Name: D loss, dtype: float64"
      ]
     },
     "execution_count": 69,
     "metadata": {},
     "output_type": "execute_result"
    }
   ],
   "source": [
    "loss_agg.loc[:,\"D loss\"]"
   ]
  },
  {
   "cell_type": "code",
   "execution_count": 70,
   "metadata": {},
   "outputs": [
    {
     "data": {
      "image/png": "[encoded data removed]",
      "text/plain": [
       "<Figure size 640x480 with 1 Axes>"
      ]
     },
     "metadata": {},
     "output_type": "display_data"
    }
   ],
   "source": [
    "plt.plot(loss_agg['D loss'], label = 'D loss')\n",
    "plt.plot(loss_agg['G loss'], label = 'G loss')\n",
    "plt.legend()\n",
    "plt.savefig('loss2.png', transparent=True)\n",
    "plt.show()"
   ]
  },
  {
   "cell_type": "code",
   "execution_count": 71,
   "metadata": {},
   "outputs": [],
   "source": [
    "df_loss2 = pd.read_csv('results_cropped_15_15/train_encoder_log.csv')"
   ]
  },
  {
   "cell_type": "code",
   "execution_count": 72,
   "metadata": {},
   "outputs": [
    {
     "data": {
      "text/html": [
       "<div>\n",
       "<style scoped>\n",
       "    .dataframe tbody tr th:only-of-type {\n",
       "        vertical-align: middle;\n",
       "    }\n",
       "\n",
       "    .dataframe tbody tr th {\n",
       "        vertical-align: top;\n",
       "    }\n",
       "\n",
       "    .dataframe thead th {\n",
       "        text-align: right;\n",
       "    }\n",
       "</style>\n",
       "<table border=\"1\" class=\"dataframe\">\n",
       "  <thead>\n",
       "    <tr style=\"text-align: right;\">\n",
       "      <th></th>\n",
       "      <th>Batch</th>\n",
       "      <th>E loss</th>\n",
       "    </tr>\n",
       "    <tr>\n",
       "      <th>Epoch</th>\n",
       "      <th></th>\n",
       "      <th></th>\n",
       "    </tr>\n",
       "  </thead>\n",
       "  <tbody>\n",
       "    <tr>\n",
       "      <th>0</th>\n",
       "      <td>510.0</td>\n",
       "      <td>0.217658</td>\n",
       "    </tr>\n",
       "    <tr>\n",
       "      <th>1</th>\n",
       "      <td>510.0</td>\n",
       "      <td>0.155668</td>\n",
       "    </tr>\n",
       "    <tr>\n",
       "      <th>2</th>\n",
       "      <td>510.0</td>\n",
       "      <td>0.141528</td>\n",
       "    </tr>\n",
       "    <tr>\n",
       "      <th>3</th>\n",
       "      <td>510.0</td>\n",
       "      <td>0.132255</td>\n",
       "    </tr>\n",
       "    <tr>\n",
       "      <th>4</th>\n",
       "      <td>510.0</td>\n",
       "      <td>0.126587</td>\n",
       "    </tr>\n",
       "    <tr>\n",
       "      <th>5</th>\n",
       "      <td>510.0</td>\n",
       "      <td>0.123048</td>\n",
       "    </tr>\n",
       "    <tr>\n",
       "      <th>6</th>\n",
       "      <td>510.0</td>\n",
       "      <td>0.120149</td>\n",
       "    </tr>\n",
       "    <tr>\n",
       "      <th>7</th>\n",
       "      <td>510.0</td>\n",
       "      <td>0.118357</td>\n",
       "    </tr>\n",
       "    <tr>\n",
       "      <th>8</th>\n",
       "      <td>510.0</td>\n",
       "      <td>0.116590</td>\n",
       "    </tr>\n",
       "    <tr>\n",
       "      <th>9</th>\n",
       "      <td>510.0</td>\n",
       "      <td>0.115481</td>\n",
       "    </tr>\n",
       "    <tr>\n",
       "      <th>10</th>\n",
       "      <td>510.0</td>\n",
       "      <td>0.113850</td>\n",
       "    </tr>\n",
       "    <tr>\n",
       "      <th>11</th>\n",
       "      <td>510.0</td>\n",
       "      <td>0.113192</td>\n",
       "    </tr>\n",
       "    <tr>\n",
       "      <th>12</th>\n",
       "      <td>510.0</td>\n",
       "      <td>0.112663</td>\n",
       "    </tr>\n",
       "    <tr>\n",
       "      <th>13</th>\n",
       "      <td>510.0</td>\n",
       "      <td>0.111144</td>\n",
       "    </tr>\n",
       "    <tr>\n",
       "      <th>14</th>\n",
       "      <td>510.0</td>\n",
       "      <td>0.110886</td>\n",
       "    </tr>\n",
       "  </tbody>\n",
       "</table>\n",
       "</div>"
      ],
      "text/plain": [
       "       Batch    E loss\n",
       "Epoch                 \n",
       "0      510.0  0.217658\n",
       "1      510.0  0.155668\n",
       "2      510.0  0.141528\n",
       "3      510.0  0.132255\n",
       "4      510.0  0.126587\n",
       "5      510.0  0.123048\n",
       "6      510.0  0.120149\n",
       "7      510.0  0.118357\n",
       "8      510.0  0.116590\n",
       "9      510.0  0.115481\n",
       "10     510.0  0.113850\n",
       "11     510.0  0.113192\n",
       "12     510.0  0.112663\n",
       "13     510.0  0.111144\n",
       "14     510.0  0.110886"
      ]
     },
     "execution_count": 72,
     "metadata": {},
     "output_type": "execute_result"
    }
   ],
   "source": [
    "eloss_agg = df_loss2.groupby('Epoch').aggregate('mean')\n",
    "eloss_agg"
   ]
  },
  {
   "cell_type": "code",
   "execution_count": 73,
   "metadata": {},
   "outputs": [
    {
     "data": {
      "image/png": "[encoded data removed]",
      "text/plain": [
       "<Figure size 640x480 with 1 Axes>"
      ]
     },
     "metadata": {},
     "output_type": "display_data"
    }
   ],
   "source": [
    "plt.plot(eloss_agg['E loss'], label = 'E loss')\n",
    "plt.legend()\n",
    "plt.savefig('loss3.png', transparent=True)\n",
    "plt.show()"
   ]
  }
 ],
 "metadata": {
  "kernelspec": {
   "display_name": "Python 3 (ipykernel)",
   "language": "python",
   "name": "python3"
  },
  "language_info": {
   "codemirror_mode": {
    "name": "ipython",
    "version": 3
   },
   "file_extension": ".py",
   "mimetype": "text/x-python",
   "name": "python",
   "nbconvert_exporter": "python",
   "pygments_lexer": "ipython3",
   "version": "3.9.13"
  }
 },
 "nbformat": 4,
 "nbformat_minor": 1
}
